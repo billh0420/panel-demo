{
 "cells": [
  {
   "cell_type": "markdown",
   "metadata": {
    "id": "4szva8taoVHY"
   },
   "source": [
    "A World folder maintains the following files and subfolders:\n",
    "* game_settings.json\n",
    "* zero or more agent folders with name \\<agent_name\\> of your choice:\n",
    "    1. \\<agent_name\\>.pth\n",
    "    1. fig.png\n",
    "    1. log.txt\n",
    "    1. performance.csv\n",
    "    1. all_rows.json\n",
    "    1. old_\\<agent_name\\>.pth [HOLD]\n",
    "\n",
    "The game_settings defines the game that all the agents will be playing.\n",
    "It should not be modified once any agent is created."
   ]
  },
  {
   "cell_type": "code",
   "execution_count": null,
   "metadata": {},
   "outputs": [],
   "source": [
    "%pwd"
   ]
  },
  {
   "cell_type": "code",
   "execution_count": null,
   "metadata": {
    "executionInfo": {
     "elapsed": 5544,
     "status": "ok",
     "timestamp": 1681394666348,
     "user": {
      "displayName": "billh17",
      "userId": "12625841932899930070"
     },
     "user_tz": 300
    },
    "id": "G_YXESV_Lkll"
   },
   "outputs": [],
   "source": [
    "import os\n",
    "\n",
    "import sys\n",
    "import subprocess\n",
    "import pkg_resources\n",
    "\n",
    "import pathlib\n",
    "import glob\n",
    "\n",
    "import argparse\n",
    "import numpy as np\n",
    "import torch\n",
    "import torch.nn as nn\n",
    "from copy import deepcopy\n",
    "from datetime import datetime\n",
    "from pytz import timezone\n",
    "from collections import OrderedDict\n",
    "import more_itertools as mit\n",
    "import pandas as pd\n",
    "import json\n",
    "import random\n",
    "import re # regular expression\n",
    "\n",
    "from enum import Enum \n",
    "\n",
    "from traitlets.traitlets import HasTraits, Int, Unicode, default\n",
    "\n",
    "from typing import List, Set, Dict, Tuple, Any\n",
    "\n",
    "import importlib"
   ]
  },
  {
   "cell_type": "markdown",
   "metadata": {},
   "source": [
    "# Some folder functions"
   ]
  },
  {
   "cell_type": "code",
   "execution_count": null,
   "metadata": {},
   "outputs": [],
   "source": [
    "def get_absolute_path_for_folder(folder): # for google colab\n",
    "    result = None\n",
    "    search_root = '/content' # for google colab\n",
    "    possible_local_path = glob.glob(f'{search_root}/**/{folder}', recursive=True)\n",
    "    if len(possible_local_path) == 1:\n",
    "        result = pathlib.Path(possible_local_path[0]).resolve()\n",
    "    return result\n",
    "\n",
    "def enter_folder(folder:str, can_mkdir = True):\n",
    "    absolute_path = get_absolute_path_for_folder(folder=folder)\n",
    "    if absolute_path:\n",
    "        %cd {absolute_path}\n",
    "    elif can_mkdir:\n",
    "        os.mkdir(folder)\n",
    "        %cd {folder}\n",
    "    else:\n",
    "        print(f'No such folder: {folder}')"
   ]
  },
  {
   "cell_type": "markdown",
   "metadata": {},
   "source": [
    "# Enter Gin_Rummy_Universe"
   ]
  },
  {
   "cell_type": "code",
   "execution_count": null,
   "metadata": {},
   "outputs": [],
   "source": [
    "enter_folder('Gin_Rummy_Universe')"
   ]
  },
  {
   "cell_type": "markdown",
   "metadata": {},
   "source": [
    "# Import Holoviz panel"
   ]
  },
  {
   "cell_type": "code",
   "execution_count": null,
   "metadata": {
    "colab": {
     "base_uri": "https://localhost:8080/",
     "height": 17
    },
    "executionInfo": {
     "elapsed": 3194,
     "status": "ok",
     "timestamp": 1681394669540,
     "user": {
      "displayName": "billh17",
      "userId": "12625841932899930070"
     },
     "user_tz": 300
    },
    "id": "AcWU5_uQ18aB",
    "outputId": "ac5e4a39-68ac-4871-8b39-4995bbd93974"
   },
   "outputs": [],
   "source": [
    "if 'panel' not in [pkg.key for pkg in pkg_resources.working_set]:\n",
    "    !pip install panel\n",
    "else:\n",
    "    print('panel already installed')\n",
    "\n",
    "from bokeh.core.validation import check\n",
    "\n",
    "import panel as pn\n",
    "from panel.interact import interact, fixed\n",
    "from panel import widgets\n",
    "import param\n",
    "\n",
    "from panel.layout.gridstack import GridStack"
   ]
  },
  {
   "cell_type": "markdown",
   "metadata": {},
   "source": [
    "# Install pylibcheck"
   ]
  },
  {
   "cell_type": "code",
   "execution_count": null,
   "metadata": {},
   "outputs": [],
   "source": [
    "!pip install pylibcheck\n",
    "import pylibcheck"
   ]
  },
  {
   "cell_type": "markdown",
   "metadata": {
    "id": "zea1SALsJw6w"
   },
   "source": [
    "# Import rlcard"
   ]
  },
  {
   "cell_type": "code",
   "execution_count": null,
   "metadata": {},
   "outputs": [],
   "source": [
    "# if 'rlcard' in [pkg.key for pkg in pkg_resources.working_set]:\n",
    "#     print('rlcard is already installed')\n",
    "# else:\n",
    "#     !pip install rlcard\n",
    "#     print('rlcard has been installed')\n",
    "\n",
    "if pylibcheck.checkPackage(\"rlcard\"):\n",
    "     print('rlcard is already installed')\n",
    "else:\n",
    "    !pip install rlcard\n",
    "    print('rlcard has been installed')"
   ]
  },
  {
   "cell_type": "code",
   "execution_count": null,
   "metadata": {
    "executionInfo": {
     "elapsed": 2777,
     "status": "ok",
     "timestamp": 1681394673402,
     "user": {
      "displayName": "billh17",
      "userId": "12625841932899930070"
     },
     "user_tz": 300
    },
    "id": "zX_Tz2SsEy9t"
   },
   "outputs": [],
   "source": [
    "import rlcard\n",
    "from rlcard.agents import RandomAgent\n",
    "from rlcard.utils import get_device, set_seed, tournament, reorganize, Logger, plot_curve\n",
    "from rlcard.agents import DQNAgent\n",
    "from rlcard.models.gin_rummy_rule_models import GinRummyNoviceRuleAgent\n",
    "\n",
    "from rlcard.agents.dqn_agent import Memory\n",
    "from rlcard.agents.dqn_agent import Estimator\n",
    "\n",
    "from rlcard.games.gin_rummy.player import GinRummyPlayer\n",
    "from rlcard.games.gin_rummy.game import GinRummyGame\n",
    "from rlcard.games.gin_rummy.utils.action_event import ActionEvent, DiscardAction\n",
    "from rlcard.games.gin_rummy.utils.action_event import KnockAction, GinAction, DeclareDeadHandAction\n",
    "\n",
    "from rlcard.games.gin_rummy.utils.scorers import GinRummyScorer\n",
    "from rlcard.games.gin_rummy.utils.settings import Setting, Settings, DealerForRound\n",
    "\n",
    "from rlcard.games.gin_rummy.utils.action_event import draw_card_action_id, pick_up_discard_action_id\n",
    "\n",
    "import rlcard.games.gin_rummy.utils.utils as utils\n",
    "import rlcard.games.gin_rummy.utils.melding as melding\n",
    "\n",
    "from rlcard.games.gin_rummy.utils.thinker import Thinker\n",
    "\n",
    "from rlcard.games.base import Card\n",
    "\n",
    "from rlcard.envs.gin_rummy import GinRummyEnv\n",
    "\n",
    "from rlcard.agents import NFSPAgent\n",
    "\n",
    "import rlcard as rlcard # NOTE: don't know why this is needed; don't know why it has to be placed last"
   ]
  },
  {
   "cell_type": "markdown",
   "metadata": {
    "id": "tKKZcTBIgY23"
   },
   "source": [
    "# Import from gin_rummy_lib"
   ]
  },
  {
   "cell_type": "code",
   "execution_count": null,
   "metadata": {},
   "outputs": [],
   "source": [
    "def append_gin_rummy_lib_to_sys_path():\n",
    "    absolute_path = get_absolute_path_for_folder('gin_rummy_lib')\n",
    "    if absolute_path:\n",
    "        absolute_path_str = str(absolute_path)\n",
    "        if not absolute_path_str in sys.path:\n",
    "            sys.path.append(absolute_path_str)\n",
    "    else:\n",
    "        abs_folder = pathlib.Path('gin-rummy-lib/').resolve()\n",
    "        abs_path = abs_folder / 'gin_rummy_lib'\n",
    "        if not os.path.exists(abs_folder):\n",
    "            print(f'Cloning gin-rummy-lib to {abs_folder}')\n",
    "            !git clone https://github.com/billh0420/gin-rummy-lib.git '{abs_folder}'\n",
    "        abs_path_str = str(abs_path)\n",
    "        if not abs_path_str in sys.path:\n",
    "            sys.path.append(abs_path_str)\n",
    "\n",
    "append_gin_rummy_lib_to_sys_path()\n",
    "sys.path"
   ]
  },
  {
   "cell_type": "code",
   "execution_count": null,
   "metadata": {
    "executionInfo": {
     "elapsed": 111,
     "status": "ok",
     "timestamp": 1681396683316,
     "user": {
      "displayName": "billh17",
      "userId": "12625841932899930070"
     },
     "user_tz": 300
    },
    "id": "pxs9U52z55Xo"
   },
   "outputs": [],
   "source": [
    "from util import to_int_list\n",
    "from util import sortByRankBySuit\n",
    "from pane.GameSettingsPane import GameSettingsPane\n",
    "from DQNAgentConfig import DQNAgentConfig\n",
    "from RLTrainerConfig import RLTrainerConfig\n",
    "from RLTrainer import RLTrainer\n",
    "from GinRummyScorer230402 import GinRummyScorer230402\n",
    "from GinRummyRookie01RuleAgent import GinRummyRookie01RuleAgent\n",
    "from GameMaker import GameMaker\n",
    "from GinRummyGameMaker import GinRummyGameMaker\n",
    "from GameObserver import GameObserver\n",
    "from GameReviewer import GameReviewer\n",
    "from World import World\n",
    "from pane.DQNAgentPane import DQNAgentPane\n",
    "from pane.RLTrainerPane import RLTrainerPane\n",
    "from pane.ReviewPlayWindow import ReviewPlayWindow\n",
    "from pane.WorldRLTrainerSettingsView import WorldRLTrainerSettingsView\n",
    "from pane.TrainingResultsWindow import TrainingResultsWindow\n",
    "from pane.ReviewMatchGamesWindow import ReviewMatchGamesWindow\n",
    "\n",
    "from pane.WorldDQNAgentConfigWindow import WorldDQNAgentConfigWindow\n",
    "\n",
    "from util import get_current_time"
   ]
  },
  {
   "cell_type": "code",
   "execution_count": null,
   "metadata": {
    "colab": {
     "base_uri": "https://localhost:8080/",
     "height": 108
    },
    "executionInfo": {
     "elapsed": 545,
     "status": "ok",
     "timestamp": 1681394674088,
     "user": {
      "displayName": "billh17",
      "userId": "12625841932899930070"
     },
     "user_tz": 300
    },
    "id": "aYANyRJhzGga",
    "outputId": "1fda86bd-3daf-4c62-c85c-808da7205498"
   },
   "outputs": [],
   "source": [
    "pn.extension(raw_css=[\"\"\"\n",
    "    div.orange_border_table + table * {\n",
    "        border: 1px solid orange;\n",
    "    }\n",
    "\"\"\"])\n",
    "\n",
    "pn.extension(raw_css=[\"\"\"\n",
    "    div.special_table + table * {\n",
    "        border: 1px solid orange;\n",
    "        padding-left: 8px;\n",
    "        padding-right: 8px;\n",
    "    }\n",
    "\"\"\"])\n",
    "\n",
    "css_log_widget_box = '''\n",
    "    .bk.log-widget-box {\n",
    "        color: #ffffff;\n",
    "        background: #000000;\n",
    "        border: 1px black solid;\n",
    "    }\n",
    "'''\n",
    "pn.extension(raw_css=[css_log_widget_box])\n",
    "\n",
    "pn.extension('tabulator')"
   ]
  },
  {
   "cell_type": "code",
   "execution_count": null,
   "metadata": {},
   "outputs": [],
   "source": [
    "# Need to do the following, but I don't know where to place it. Putting it earlier doesn't seem to always work.\n",
    "pn.extension() # required for panels to be displayed in Jupyter notebook"
   ]
  },
  {
   "cell_type": "markdown",
   "metadata": {
    "id": "GPEd-hqe1y-Z"
   },
   "source": [
    "# Final Version (Keep) 230407"
   ]
  },
  {
   "cell_type": "code",
   "execution_count": null,
   "metadata": {
    "executionInfo": {
     "elapsed": 3,
     "status": "ok",
     "timestamp": 1681394674088,
     "user": {
      "displayName": "billh17",
      "userId": "12625841932899930070"
     },
     "user_tz": 300
    },
    "id": "LWizH4T6d3QE"
   },
   "outputs": [],
   "source": [
    "# Step 1 (one time only)\n",
    "# Create an empty directory for your world.\n",
    "# For example, create a directory with the name \"Gin_Rummy_World\"\n",
    "# This directory will hold all the files that are used in your training sessions.\n",
    "# This is done one time only.\n",
    "# Make this your working directory.\n",
    "\n",
    "enter_folder('Gin_Rummy_World')"
   ]
  },
  {
   "cell_type": "code",
   "execution_count": null,
   "metadata": {},
   "outputs": [],
   "source": [
    "# Step 1.1\n",
    "# Show game_maker_config for this world.\n",
    "# The file game_maker_config.json will be created if it does not exists.\n",
    "# Honor system: you can change the contents of this file as long as the first training agent is not created.\n",
    "\n",
    "def show_game_maker_config(): # hard-coded in notebook\n",
    "    game_maker_config = {'selection': 'win_or_lose', 'max_move_count': 50} # hard_coded\n",
    "    print(f'--- Gin Rummy Game Maker Config ---')\n",
    "    file_path = 'game_maker_config.json' # cannot change this\n",
    "    if not os.path.exists(file_path):\n",
    "        pd.Series(game_maker_config).to_json(path_or_buf=file_path, orient='index')\n",
    "    for key, value in pd.read_json(path_or_buf=file_path, typ='series', orient='index').items():\n",
    "        print(f'{key}: {value}')\n",
    "\n",
    "show_game_maker_config()"
   ]
  },
  {
   "cell_type": "code",
   "execution_count": null,
   "metadata": {
    "colab": {
     "base_uri": "https://localhost:8080/"
    },
    "executionInfo": {
     "elapsed": 10858,
     "status": "ok",
     "timestamp": 1681394684944,
     "user": {
      "displayName": "billh17",
      "userId": "12625841932899930070"
     },
     "user_tz": 300
    },
    "id": "9wFkztr7aAn2",
    "outputId": "677a250f-60d4-4cbb-e885-dd4b362f1d9e"
   },
   "outputs": [],
   "source": [
    "# Step 2 (always done to get handle on the world with your choice of name.)\n",
    "\n",
    "# Open world.\n",
    "#\n",
    "# This is done each time you want to do something with your agents.\n",
    "# Here the world is called 'gin_rummy_world'. You can call it simply 'world' if you wish.\n",
    "#\n",
    "# If you do not specify the world_dir, then the current working directory is used.\n",
    "# If you specify its directory, then it must exists else a crash will result.\n",
    "# Example: gin_rummy_world = World(world_dir='../results_gin_rummy_dqn')\n",
    "#\n",
    "# Note: The world variable is the only variable that is allocated in these steps.\n",
    "#       I am trying to minimize the creation of other named variables (e.g. views and windows).\n",
    "#\n",
    "# The world_dir will hold the following:\n",
    "#   1) The file game_maker_config.json (Created in step 1.1).\n",
    "#   2) The directory whose name is the agent name (It will be automatically created when the agent is created).\n",
    "#       This directory holds the following files:\n",
    "#       - the agent pth file (modified by training it in step 6);\n",
    "#       - the file log.txt created by play_train_match in step 6;\n",
    "#       - the file fig.png created by play_train_match in step 6;\n",
    "#       - the file performance.csv created by play_train_match in step 6.\n",
    "\n",
    "def get_gin_rummy_world():\n",
    "    game_maker = GinRummyGameMaker()\n",
    "    gin_rummy_world = World(game_maker=game_maker) # Using current directory as world_dir\n",
    "    return gin_rummy_world\n",
    "\n",
    "gin_rummy_world = get_gin_rummy_world()"
   ]
  },
  {
   "cell_type": "code",
   "execution_count": null,
   "metadata": {
    "colab": {
     "base_uri": "https://localhost:8080/",
     "height": 498
    },
    "executionInfo": {
     "elapsed": 278,
     "status": "ok",
     "timestamp": 1681394685212,
     "user": {
      "displayName": "billh17",
      "userId": "12625841932899930070"
     },
     "user_tz": 300
    },
    "id": "5xbKVnnTlNnD",
    "outputId": "88dcfd95-908b-4d4f-ab53-917226454ae1"
   },
   "outputs": [],
   "source": [
    "# Step 3 (optional)\n",
    "# Use GameSettingsPane to view game settings (optional).\n",
    "# After you create your first training agent in the next step, you should not change the game settings.\n",
    "# The agents assume that they are playing with the same game settings that existed when the first agent was created.\n",
    "# That is, all agents are playing with the same rules for the game.\n",
    "\n",
    "GameSettingsPane(world=gin_rummy_world)"
   ]
  },
  {
   "cell_type": "code",
   "execution_count": null,
   "metadata": {
    "colab": {
     "base_uri": "https://localhost:8080/",
     "height": 792
    },
    "executionInfo": {
     "elapsed": 158,
     "status": "ok",
     "timestamp": 1681394685367,
     "user": {
      "displayName": "billh17",
      "userId": "12625841932899930070"
     },
     "user_tz": 300
    },
    "id": "EQwwoTvZn4Dr",
    "outputId": "aaeb1066-2956-4b23-9ff9-4bffac6225b2"
   },
   "outputs": [],
   "source": [
    "# Step 4 (optional)\n",
    "# Use WorldDQNAgentConfigWindow to create your training agent (one time per agent).\n",
    "# You adjust the settings and hit the \"Create DQN Agent\" button.\n",
    "# If an agent with the chosen name already exists, nothing happens.\n",
    "# You will get a message on whether you were successful or not (not implemented).\n",
    "\n",
    "WorldDQNAgentConfigWindow(world=gin_rummy_world)"
   ]
  },
  {
   "cell_type": "code",
   "execution_count": null,
   "metadata": {
    "colab": {
     "base_uri": "https://localhost:8080/",
     "height": 268
    },
    "executionInfo": {
     "elapsed": 118,
     "status": "ok",
     "timestamp": 1681394685484,
     "user": {
      "displayName": "billh17",
      "userId": "12625841932899930070"
     },
     "user_tz": 300
    },
    "id": "PVCYeA7yqJBU",
    "outputId": "f31bc802-4692-440e-b1f6-0e0db2139db5"
   },
   "outputs": [],
   "source": [
    "# Step 5 (optional)\n",
    "# Use WorldRLTrainerSettingsView to set trainer settings (multiple times except for changing algorithm)\n",
    "\n",
    "WorldRLTrainerSettingsView(world=gin_rummy_world).view"
   ]
  },
  {
   "cell_type": "code",
   "execution_count": null,
   "metadata": {
    "executionInfo": {
     "elapsed": 3,
     "status": "ok",
     "timestamp": 1681394685485,
     "user": {
      "displayName": "billh17",
      "userId": "12625841932899930070"
     },
     "user_tz": 300
    },
    "id": "DNh6IZO5XAhp"
   },
   "outputs": [],
   "source": [
    "# Step 6 (optional)\n",
    "# Run training session (long)\n",
    "\n",
    "#%%time\n",
    "gin_rummy_world.play_train_match(num_episodes=20)"
   ]
  },
  {
   "cell_type": "code",
   "execution_count": null,
   "metadata": {
    "colab": {
     "base_uri": "https://localhost:8080/",
     "height": 939
    },
    "executionInfo": {
     "elapsed": 810,
     "status": "ok",
     "timestamp": 1681394686292,
     "user": {
      "displayName": "billh17",
      "userId": "12625841932899930070"
     },
     "user_tz": 300
    },
    "id": "y4-q_JfTWhVf",
    "outputId": "0d79d1f7-b114-4433-d7a4-af98aba1f547"
   },
   "outputs": [],
   "source": [
    "# Step 7 (optional)\n",
    "# Use TrainingResultsWindow to see results of training (optional)\n",
    "# Repeat steps 5, 6, 7 as often as you want. Of course, step 5 and 7 will be optional.\n",
    "\n",
    "TrainingResultsWindow(world=gin_rummy_world)"
   ]
  },
  {
   "cell_type": "code",
   "execution_count": null,
   "metadata": {
    "colab": {
     "base_uri": "https://localhost:8080/",
     "height": 1000
    },
    "executionInfo": {
     "elapsed": 114,
     "status": "ok",
     "timestamp": 1681394686403,
     "user": {
      "displayName": "billh17",
      "userId": "12625841932899930070"
     },
     "user_tz": 300
    },
    "id": "_mp8nubmrTo9",
    "outputId": "fc50043e-ceb4-44fb-dac5-40c643e06286"
   },
   "outputs": [],
   "source": [
    "# Step 8 (optional)\n",
    "# Use ReviewMatchGamesWindow to review how well the dqn_agent is doing (optional)\n",
    "# Note that 0 <= max_review_episodes <= 1000.\n",
    "# Repeat any or several of these steps.\n",
    "\n",
    "ReviewMatchGamesWindow(world=gin_rummy_world)"
   ]
  },
  {
   "cell_type": "code",
   "execution_count": null,
   "metadata": {},
   "outputs": [],
   "source": []
  }
 ],
 "metadata": {
  "colab": {
   "authorship_tag": "ABX9TyPfxD+eah1G9zLo9YHAUc1K",
   "mount_file_id": "1s3SU5n5D6X6ib_Cs-wvNw1W6NRcn1yIh",
   "provenance": [
    {
     "file_id": "1JDb88xkLhYbzFip9leDGOI_WOpjJIFlQ",
     "timestamp": 1681016937352
    }
   ]
  },
  "gpuClass": "standard",
  "kernelspec": {
   "display_name": "Python 3 (ipykernel)",
   "language": "python",
   "name": "python3"
  },
  "language_info": {
   "codemirror_mode": {
    "name": "ipython",
    "version": 3
   },
   "file_extension": ".py",
   "mimetype": "text/x-python",
   "name": "python",
   "nbconvert_exporter": "python",
   "pygments_lexer": "ipython3",
   "version": "3.10.4"
  }
 },
 "nbformat": 4,
 "nbformat_minor": 4
}
