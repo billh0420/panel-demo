{
 "cells": [
  {
   "cell_type": "markdown",
   "metadata": {
    "id": "Cl371zYU8rum"
   },
   "source": [
    "# Standard imports"
   ]
  },
  {
   "cell_type": "code",
   "execution_count": null,
   "metadata": {
    "id": "G_YXESV_Lkll"
   },
   "outputs": [],
   "source": [
    "import os\n",
    "\n",
    "import sys\n",
    "import subprocess\n",
    "import pkg_resources\n",
    "\n",
    "import argparse\n",
    "import numpy as np\n",
    "import torch\n",
    "import torch.nn as nn\n",
    "from copy import deepcopy\n",
    "from datetime import datetime\n",
    "from pytz import timezone\n",
    "from collections import OrderedDict\n",
    "import more_itertools as mit\n",
    "import pandas as pd\n",
    "import random\n",
    "import re # regular expression\n",
    "\n",
    "from enum import Enum \n",
    "\n",
    "from traitlets.traitlets import HasTraits, Int, Unicode, default\n",
    "\n",
    "from typing import List, Set, Dict, Tuple, Any\n",
    "\n",
    "import importlib"
   ]
  },
  {
   "cell_type": "markdown",
   "metadata": {
    "id": "aFALrPdc-gNB"
   },
   "source": [
    "# Import Holoviz Panel"
   ]
  },
  {
   "cell_type": "code",
   "execution_count": null,
   "metadata": {
    "id": "AcWU5_uQ18aB"
   },
   "outputs": [],
   "source": [
    "if 'panel' not in [pkg.key for pkg in pkg_resources.working_set]:\n",
    "    !pip install panel\n",
    "else:\n",
    "    print('panel already installed')\n",
    "\n",
    "from bokeh.core.validation import check\n",
    "\n",
    "import panel as pn\n",
    "from panel.interact import interact, fixed\n",
    "from panel import widgets\n",
    "import param\n",
    "\n",
    "from panel.layout.gridstack import GridStack\n",
    "\n",
    "pn.extension() # required for panels to be displayed in Jupyter notebook"
   ]
  },
  {
   "cell_type": "markdown",
   "metadata": {
    "id": "kkp-Auqvmr1W"
   },
   "source": [
    "# Set up Holoviz panels for Jupyter notebook"
   ]
  },
  {
   "cell_type": "code",
   "execution_count": null,
   "metadata": {
    "id": "aYANyRJhzGga"
   },
   "outputs": [],
   "source": [
    "pn.extension(raw_css=[\"\"\"\n",
    "div.orange_border_table + table * {\n",
    "  border: 1px solid orange;\n",
    "}\n",
    "\"\"\"])\n",
    "\n",
    "css_log_widget_box = '''\n",
    ".bk.log-widget-box {\n",
    "  color: #ffffff;\n",
    "  background: #000000;\n",
    "  border: 1px black solid;\n",
    "}\n",
    "'''\n",
    "\n",
    "pn.extension(raw_css=[css_log_widget_box])\n",
    "\n",
    "pn.extension('tabulator')"
   ]
  },
  {
   "cell_type": "markdown",
   "metadata": {
    "id": "zea1SALsJw6w"
   },
   "source": [
    "# Import rlcard"
   ]
  },
  {
   "cell_type": "code",
   "execution_count": null,
   "metadata": {
    "id": "yQUWbx33-CbQ"
   },
   "outputs": [],
   "source": [
    "if 'rlcard' not in [pkg.key for pkg in pkg_resources.working_set]:\n",
    "    !pip install -vvv rlcard\n",
    "else:\n",
    "    print('rlcard already installed')"
   ]
  },
  {
   "cell_type": "code",
   "execution_count": null,
   "metadata": {
    "id": "zX_Tz2SsEy9t"
   },
   "outputs": [],
   "source": [
    "import rlcard\n",
    "from rlcard.agents import RandomAgent\n",
    "from rlcard.utils import get_device, set_seed, tournament, reorganize, Logger, plot_curve\n",
    "from rlcard.agents import DQNAgent\n",
    "from rlcard.models.gin_rummy_rule_models import GinRummyNoviceRuleAgent\n",
    "\n",
    "from rlcard.agents.dqn_agent import Memory\n",
    "from rlcard.agents.dqn_agent import Estimator\n",
    "\n",
    "from rlcard.games.gin_rummy.player import GinRummyPlayer\n",
    "from rlcard.games.gin_rummy.game import GinRummyGame\n",
    "from rlcard.games.gin_rummy.utils.action_event import ActionEvent, DiscardAction\n",
    "from rlcard.games.gin_rummy.utils.action_event import KnockAction, GinAction, DeclareDeadHandAction\n",
    "\n",
    "from rlcard.games.gin_rummy.utils.scorers import GinRummyScorer\n",
    "from rlcard.games.gin_rummy.utils.settings import Setting, Settings, DealerForRound\n",
    "\n",
    "from rlcard.games.gin_rummy.utils.action_event import draw_card_action_id, pick_up_discard_action_id\n",
    "\n",
    "import rlcard.games.gin_rummy.utils.utils as utils\n",
    "import rlcard.games.gin_rummy.utils.melding as melding\n",
    "\n",
    "from rlcard.games.gin_rummy.utils.thinker import Thinker\n",
    "\n",
    "from rlcard.games.base import Card\n",
    "\n",
    "from rlcard.envs.gin_rummy import GinRummyEnv\n",
    "\n",
    "from rlcard.agents import NFSPAgent\n",
    "\n",
    "import rlcard as rlcard # NOTE: don't know why this is needed; don't know why it has to be placed last"
   ]
  },
  {
   "cell_type": "markdown",
   "metadata": {
    "id": "QIBk3Fe-nTpt"
   },
   "source": [
    "# My Game Reviewer"
   ]
  },
  {
   "cell_type": "code",
   "execution_count": null,
   "metadata": {
    "id": "Adsu4MErkEtO"
   },
   "outputs": [],
   "source": [
    "# We will need the following function.\n",
    "\n",
    "def sortByRankBySuit(card: Card):\n",
    "    # by rank (A 2 3 ... J Q K) by suit (C D H S)\n",
    "    from rlcard.games.gin_rummy.utils.utils import get_rank_id, get_suit_id\n",
    "    return 4 * get_rank_id(card) + 3 - get_suit_id(card)\n",
    "\n",
    "def card_from_card_index(text: str) -> Card:\n",
    "    if len(text) != 2:\n",
    "        raise Exception(\"len(text) is {}: should be 2.\".format(len(text)))\n",
    "    return Card(rank=text[1], suit=text[0])"
   ]
  },
  {
   "cell_type": "code",
   "execution_count": null,
   "metadata": {
    "id": "z9PSpxYPOh9z"
   },
   "outputs": [],
   "source": [
    "# We will create a pandas dataframe with the individual steps of playing a game.\n",
    "# We will build a view that shows one row of the dataframe.\n",
    "# Each row of the dataframe corresponds to a move by a player.\n",
    "# The learning agent is player_id 0.\n",
    "# The opponent is player_id 1.\n",
    "\n",
    "# The following is hard-coded since we are interested in the view only.\n",
    "# The data is generated without any training taking place.\n",
    "\n",
    "# Set up environment. You can execute this cell just once.\n",
    "\n",
    "def create_env():\n",
    "    env = rlcard.make('gin-rummy')\n",
    "    game= env.game\n",
    "    num_actions = env.num_actions\n",
    "    state_shape = env.state_shape[0]\n",
    "    mlp_layers = [128, 128, 128]\n",
    "    dqn_agent = DQNAgent(num_actions=num_actions, state_shape=state_shape, mlp_layers=mlp_layers)\n",
    "    opponent = GinRummyNoviceRuleAgent()\n",
    "    agents = [dqn_agent, opponent]\n",
    "    env.set_agents(agents)\n",
    "    return env\n",
    "\n",
    "env = create_env()"
   ]
  },
  {
   "cell_type": "code",
   "execution_count": null,
   "metadata": {
    "id": "39Sp2-34FjkV"
   },
   "outputs": [],
   "source": [
    "# Play a game.\n",
    "# You can re-execute this cell to produce new data.\n",
    "\n",
    "def create_row(action, game, env_state):\n",
    "    row = dict()\n",
    "    player_id = game.get_player_id()\n",
    "    legal_actions = game.judge.get_legal_actions()\n",
    "    game_state = game.get_state(player_id=player_id)\n",
    "    row['player_id'] = player_id\n",
    "    row['legal_action_ids'] = [x.action_id for x in legal_actions]\n",
    "    row['action_id'] = action\n",
    "    row['top_card'] = [card_from_card_index(x) for x in game_state['top_discard']]\n",
    "    row['held_cards'] = game.round.players[player_id].hand\n",
    "    row['dead_cards'] = [card_from_card_index(x) for x in game_state['dead_cards']]\n",
    "    row['env_state'] = env_state\n",
    "    row['unknown_cards'] = [card_from_card_index(x) for x in game_state['unknown_cards']]\n",
    "    row['opponent_known_cards'] = [card_from_card_index(x) for x in game_state['opponent_known_cards']]\n",
    "    return row\n",
    "\n",
    "def create_rows(env):\n",
    "    rows = []\n",
    "    state, player_id = env.reset()\n",
    "    while not env.is_over():\n",
    "        agent = env.agents[player_id]\n",
    "        env_state = env.get_state(player_id=player_id)\n",
    "        action, _ = agent.eval_step(env_state)\n",
    "        row = create_row(action=action, game=env.game, env_state=env_state)\n",
    "        rows.append(row)\n",
    "        state, player_id = env.step(action=action)\n",
    "    print('done')\n",
    "    return rows\n",
    "\n",
    "rows = create_rows(env=env)"
   ]
  },
  {
   "cell_type": "code",
   "execution_count": null,
   "metadata": {
    "id": "kTTwgQ2dZcRy"
   },
   "outputs": [],
   "source": [
    "# Create two pandas dataframes: dataframe and filtered_df.\n",
    "# The filtered_df is the more interesting one since it corresponds to the dqn_agent actions.\n",
    "\n",
    "dataframe = pd.DataFrame(rows)\n",
    "filtered_df = dataframe.query(\"player_id == 0\")\n",
    "dataframe.head(7) # There are many ways to view a dataframe."
   ]
  },
  {
   "cell_type": "code",
   "execution_count": null,
   "metadata": {
    "id": "opN_YVx1MRst"
   },
   "outputs": [],
   "source": [
    "class MyGamePane(pn.pane.Markdown):\n",
    "\n",
    "    def __init__(self, dataframe, row_id, agents):\n",
    "        super().__init__()\n",
    "        self.object = self.make_game_text(dataframe, row_id, agents)\n",
    "\n",
    "    def make_game_text(self, dataframe, row_id, agents) -> str:\n",
    "            max_rows = len(dataframe)\n",
    "            if max_rows == 0:\n",
    "                return \"### Gin Rummy (no rows)\"\n",
    "            row = dataframe.iloc[row_id]\n",
    "            current_row = row_id + 1\n",
    "            player_id = row['player_id']\n",
    "            top_card = row['top_card']\n",
    "            top_card_name = top_card[0] if top_card else '*'\n",
    "            legal_action_ids = row['legal_action_ids']\n",
    "            action_id = row['action_id']\n",
    "\n",
    "            held_cards = sorted(row['held_cards'], key=sortByRankBySuit, reverse=True)\n",
    "            held_card_names = \" \".join(map(str, held_cards))\n",
    "            actionEvent = ActionEvent.decode_action(action_id)\n",
    "\n",
    "            opponent_known_cards = sorted(row['opponent_known_cards'], key=sortByRankBySuit, reverse=True)\n",
    "            opponent_known_cards_names = \" \".join(map(str, opponent_known_cards))\n",
    "\n",
    "            dead_cards = sorted(row['dead_cards'], key=sortByRankBySuit, reverse=True)\n",
    "            dead_cards_names = \" \".join(map(str, dead_cards))\n",
    "\n",
    "            unknown_cards = sorted(row['unknown_cards'], key=sortByRankBySuit, reverse=True)\n",
    "            unknown_cards_names = \" \".join(map(str, unknown_cards))\n",
    "\n",
    "            env_state = row['env_state']\n",
    "            agent = agents[player_id]\n",
    "            best_action, info = agent.eval_step(state=env_state)\n",
    "\n",
    "            deck_count = len(held_cards) + len(dead_cards) + len(unknown_cards) + len(opponent_known_cards) + (1 if top_card else 0)\n",
    "            if action_id == 0 or action_id == 1:\n",
    "                deck_count += 1 # kludge\n",
    "\n",
    "            return f\"\"\"\n",
    "            ### Gin Rummy ({current_row} of {max_rows})\n",
    "\n",
    "            player_id: {player_id}\n",
    "\n",
    "            opponent_known_cards: [{opponent_known_cards_names}]\n",
    "\n",
    "            top_card: {top_card_name} dead_cards: [{dead_cards_names}]\n",
    "\n",
    "            held_cards: [{held_card_names}]\n",
    "\n",
    "            legal_actions: {legal_action_ids}\n",
    "\n",
    "            action: {actionEvent} <{action_id}>\n",
    "\n",
    "            unknown_cards: [{unknown_cards_names}]\n",
    "\n",
    "            deck_count: {deck_count} Note: should be 52.\n",
    "\n",
    "            best_action: {best_action} {ActionEvent.decode_action(best_action)}\n",
    "        \"\"\""
   ]
  },
  {
   "cell_type": "markdown",
   "metadata": {
    "id": "1DdutCqywlka"
   },
   "source": [
    "# Choose your row_id and your dataframe"
   ]
  },
  {
   "cell_type": "code",
   "execution_count": null,
   "metadata": {
    "id": "8UlufBq4uvjT"
   },
   "outputs": [],
   "source": [
    "# Set which dataframe to use.\n",
    "# Set row_id here to avoid going out of bounds\n",
    "is_use_filtered_df = True # You can change this to False if you want\n",
    "my_row_id = 5 # You can change this if you want\n",
    "df = filtered_df if is_use_filtered_df else dataframe\n",
    "row_id = min(my_row_id, len(df))"
   ]
  },
  {
   "cell_type": "markdown",
   "metadata": {
    "id": "p-_RywMhwvEr"
   },
   "source": [
    "# Build some panels"
   ]
  },
  {
   "cell_type": "code",
   "execution_count": null,
   "metadata": {
    "id": "LDWy1Fs2J6HJ"
   },
   "outputs": [],
   "source": [
    "# Here we use Holoviz panel to view part of the pandas dataframe.\n",
    "# I coded GamePane using the Holoviz panel library.\n",
    "# You can look at the simple code in the github repo.\n",
    "# Note: GamePane is within the file ReviewPlayWindow.py\n",
    "\n",
    "# Note: the view must be the last statement of the jupyter notebook cell.\n",
    "\n",
    "# Note: This is designed for dark mode only. I am not going to use light mode.\n",
    "\n",
    "MyGamePane(dataframe=df, row_id=row_id, agents=env.agents)"
   ]
  },
  {
   "cell_type": "code",
   "execution_count": null,
   "metadata": {
    "id": "EzrePLX2NRMt"
   },
   "outputs": [],
   "source": [
    "class MyInfoTablePane(pn.pane.Markdown):\n",
    "\n",
    "    def __init__(self, dataframe, row_id, agents):\n",
    "        super().__init__()\n",
    "        self.object = self.make_info_table(dataframe, row_id, agents)\n",
    "\n",
    "    def make_info_table(self, dataframe, row_id:int, agents) -> str:\n",
    "        max_rows = len(dataframe)\n",
    "        if max_rows == 0:\n",
    "            return \"\"\n",
    "        row = dataframe.iloc[row_id]\n",
    "        player_id = row['player_id']\n",
    "        env_state = row['env_state']\n",
    "        agent = agents[player_id]\n",
    "        best_action, info = agent.eval_step(state=env_state)\n",
    "        if not info:\n",
    "            return \"\"\n",
    "        info_sorted_by_value = OrderedDict(sorted(info['values'].items(), key=lambda x: x[1], reverse=True))\n",
    "        info_table_lines = []\n",
    "        info_table_lines.append(\"### DQNAgent\\n\")\n",
    "        info_table_lines.append(\"<div class='orange_border_table'></div>\")\n",
    "        info_table_lines.append(\"| Action | Description | Q_value |\")\n",
    "        info_table_lines.append(\"\\n\")\n",
    "        info_table_lines.append(\"| :--- | :--- | :---- |\")\n",
    "        info_table_lines.append(\"\\n\")\n",
    "        for info_action, q_value in info_sorted_by_value.items():\n",
    "            info_table_lines.append(f'|{info_action} | {ActionEvent.decode_action(info_action)} | {q_value} |')\n",
    "            info_table_lines.append(\"\\n\")\n",
    "        info_table = \" \".join(info_table_lines)\n",
    "        return info_table"
   ]
  },
  {
   "cell_type": "code",
   "execution_count": null,
   "metadata": {
    "id": "2gxV0uoSYSea"
   },
   "outputs": [],
   "source": [
    "# Here we use Holoviz panel to view another part of the pandas dataframe.\n",
    "# I coded InfoTablePane using the Holoviz panel library.\n",
    "# You can look at the simple code in the github repo.\n",
    "# Note: InfoTablePane is within the file ReviewPlayWindow.py\n",
    "\n",
    "# Note: This view is empty for player_id 1 since the opponent is not a DQNAgent.\n",
    "# Look at the raw dataframe displayed above to see what rows correspond to player_id 0.\n",
    "# The best examples are when player_id 0 is discarding.\n",
    "\n",
    "# Note: the view must be the last statement of the jupyter notebook cell.\n",
    "\n",
    "MyInfoTablePane(dataframe=df, row_id=row_id, agents=env.agents)"
   ]
  },
  {
   "cell_type": "code",
   "execution_count": null,
   "metadata": {
    "id": "-nMymEBTYaRD"
   },
   "outputs": [],
   "source": [
    "# Now create a view to display these components together.\n",
    "# When you are satisfied, you can put the class into your python module library.\n",
    "# Note: The title_pane uses markdown. It can be multi-lined (use triple quote).\n",
    "\n",
    "class MyGameReviewer(pn.Column):\n",
    "\n",
    "    def __init__(self, dataframe, row_id, agents):\n",
    "        super().__init__()\n",
    "        title_pane = pn.pane.Markdown(f'## Game Reviewer')\n",
    "        game_pane = MyGamePane(dataframe=dataframe, row_id=row_id, agents=agents)\n",
    "        info_pane = MyInfoTablePane(dataframe=dataframe, row_id=row_id, agents=agents)\n",
    "        self.append(title_pane)\n",
    "        self.append(game_pane)\n",
    "        self.append(info_pane)\n",
    "        self.background = 'green'\n",
    "        self.width = 1200"
   ]
  },
  {
   "cell_type": "code",
   "execution_count": null,
   "metadata": {
    "id": "HBQQV3yHYz_M"
   },
   "outputs": [],
   "source": [
    "# Show the new view.\n",
    "# Change the row_id value to get different steps in the games of the match.\n",
    "# Rows with action_id > 3 corresponds to player discarding.\n",
    "\n",
    "# Note: the view must be the last statement of the jupyter notebook cell.\n",
    "\n",
    "# Note: This is designed for dark mode only. I am not going to use light mode.\n",
    "\n",
    "MyGameReviewer(dataframe=df, row_id=row_id, agents=env.agents)"
   ]
  }
 ],
 "metadata": {
  "colab": {
   "authorship_tag": "ABX9TyNm0bFEyJySW1ccXNRSlH1w",
   "mount_file_id": "1FKYUTwdXFZcV9z3tNKYiFGPViJApLMQE",
   "provenance": [
    {
     "file_id": "1JDb88xkLhYbzFip9leDGOI_WOpjJIFlQ",
     "timestamp": 1681016937352
    }
   ]
  },
  "gpuClass": "standard",
  "kernelspec": {
   "display_name": "Python 3 (ipykernel)",
   "language": "python",
   "name": "python3"
  },
  "language_info": {
   "codemirror_mode": {
    "name": "ipython",
    "version": 3
   },
   "file_extension": ".py",
   "mimetype": "text/x-python",
   "name": "python",
   "nbconvert_exporter": "python",
   "pygments_lexer": "ipython3",
   "version": "3.10.4"
  }
 },
 "nbformat": 4,
 "nbformat_minor": 4
}
