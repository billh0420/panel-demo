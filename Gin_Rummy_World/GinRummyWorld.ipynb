{
 "cells": [
  {
   "cell_type": "markdown",
   "metadata": {
    "id": "4szva8taoVHY"
   },
   "source": [
    "A World folder maintains the following files and subfolders:\n",
    "* game_settings.json\n",
    "* zero or more agent folders with name \\<agent_name\\> of your choice:\n",
    "    1. \\<agent_name\\>.pth\n",
    "    1. fig.png\n",
    "    1. log.txt\n",
    "    1. performance.csv\n",
    "    1. all_rows.json\n",
    "    1. old_\\<agent_name\\>.pth [HOLD]\n",
    "\n",
    "The game_settings defines the game that all the agents will be playing.\n",
    "It should not be modified once any agent is created."
   ]
  },
  {
   "cell_type": "code",
   "execution_count": null,
   "metadata": {
    "executionInfo": {
     "elapsed": 5544,
     "status": "ok",
     "timestamp": 1681394666348,
     "user": {
      "displayName": "billh17",
      "userId": "12625841932899930070"
     },
     "user_tz": 300
    },
    "id": "G_YXESV_Lkll"
   },
   "outputs": [],
   "source": [
    "import os\n",
    "\n",
    "import sys\n",
    "import subprocess\n",
    "import pkg_resources\n",
    "\n",
    "import argparse\n",
    "import numpy as np\n",
    "import torch\n",
    "import torch.nn as nn\n",
    "from copy import deepcopy\n",
    "from datetime import datetime\n",
    "from pytz import timezone\n",
    "from collections import OrderedDict\n",
    "import more_itertools as mit\n",
    "import pandas as pd\n",
    "import random\n",
    "import re # regular expression\n",
    "\n",
    "from enum import Enum \n",
    "\n",
    "from traitlets.traitlets import HasTraits, Int, Unicode, default\n",
    "\n",
    "from typing import List, Set, Dict, Tuple, Any\n",
    "\n",
    "import importlib"
   ]
  },
  {
   "cell_type": "markdown",
   "metadata": {},
   "source": [
    "# import Holoviz panel"
   ]
  },
  {
   "cell_type": "code",
   "execution_count": null,
   "metadata": {
    "colab": {
     "base_uri": "https://localhost:8080/",
     "height": 17
    },
    "executionInfo": {
     "elapsed": 3194,
     "status": "ok",
     "timestamp": 1681394669540,
     "user": {
      "displayName": "billh17",
      "userId": "12625841932899930070"
     },
     "user_tz": 300
    },
    "id": "AcWU5_uQ18aB",
    "outputId": "ac5e4a39-68ac-4871-8b39-4995bbd93974"
   },
   "outputs": [],
   "source": [
    "if 'panel' not in [pkg.key for pkg in pkg_resources.working_set]:\n",
    "    !pip install panel\n",
    "else:\n",
    "    print('panel already installed')\n",
    "\n",
    "from bokeh.core.validation import check\n",
    "\n",
    "import panel as pn\n",
    "from panel.interact import interact, fixed\n",
    "from panel import widgets\n",
    "import param"
   ]
  },
  {
   "cell_type": "markdown",
   "metadata": {
    "id": "zea1SALsJw6w"
   },
   "source": [
    "# import rlcard"
   ]
  },
  {
   "cell_type": "code",
   "execution_count": null,
   "metadata": {},
   "outputs": [],
   "source": [
    "if 'rlcard' not in [pkg.key for pkg in pkg_resources.working_set]:\n",
    "    !pip install rlcard\n",
    "else:\n",
    "    print('rlcard already installed')"
   ]
  },
  {
   "cell_type": "code",
   "execution_count": null,
   "metadata": {
    "executionInfo": {
     "elapsed": 2777,
     "status": "ok",
     "timestamp": 1681394673402,
     "user": {
      "displayName": "billh17",
      "userId": "12625841932899930070"
     },
     "user_tz": 300
    },
    "id": "zX_Tz2SsEy9t"
   },
   "outputs": [],
   "source": [
    "import rlcard\n",
    "from rlcard.agents import RandomAgent\n",
    "from rlcard.utils import get_device, set_seed, tournament, reorganize, Logger, plot_curve\n",
    "from rlcard.agents import DQNAgent\n",
    "from rlcard.models.gin_rummy_rule_models import GinRummyNoviceRuleAgent\n",
    "\n",
    "from rlcard.agents.dqn_agent import Memory\n",
    "from rlcard.agents.dqn_agent import Estimator\n",
    "\n",
    "from rlcard.games.gin_rummy.player import GinRummyPlayer\n",
    "from rlcard.games.gin_rummy.game import GinRummyGame\n",
    "from rlcard.games.gin_rummy.utils.action_event import ActionEvent, DiscardAction\n",
    "from rlcard.games.gin_rummy.utils.action_event import KnockAction, GinAction, DeclareDeadHandAction\n",
    "\n",
    "from rlcard.games.gin_rummy.utils.scorers import GinRummyScorer\n",
    "from rlcard.games.gin_rummy.utils.settings import Setting, Settings, DealerForRound\n",
    "\n",
    "from rlcard.games.gin_rummy.utils.action_event import draw_card_action_id, pick_up_discard_action_id\n",
    "\n",
    "import rlcard.games.gin_rummy.utils.utils as utils\n",
    "import rlcard.games.gin_rummy.utils.melding as melding\n",
    "\n",
    "from rlcard.games.gin_rummy.utils.thinker import Thinker\n",
    "\n",
    "from rlcard.games.base import Card\n",
    "\n",
    "from rlcard.envs.gin_rummy import GinRummyEnv\n",
    "\n",
    "from rlcard.agents import NFSPAgent\n",
    "\n",
    "import rlcard as rlcard # NOTE: don't know why this is needed; don't know why it has to be placed last"
   ]
  },
  {
   "cell_type": "markdown",
   "metadata": {
    "id": "tKKZcTBIgY23"
   },
   "source": [
    "# Import from gin_rummy_lib"
   ]
  },
  {
   "cell_type": "code",
   "execution_count": null,
   "metadata": {},
   "outputs": [],
   "source": [
    "!git clone https://github.com/billh0420/panel-demo.git"
   ]
  },
  {
   "cell_type": "code",
   "execution_count": null,
   "metadata": {
    "executionInfo": {
     "elapsed": 111,
     "status": "ok",
     "timestamp": 1681396683316,
     "user": {
      "displayName": "billh17",
      "userId": "12625841932899930070"
     },
     "user_tz": 300
    },
    "id": "pxs9U52z55Xo"
   },
   "outputs": [],
   "source": [
    "if not '/content/panel-demo/Gin_Rummy_World/gin_rummy_lib' in sys.path:\n",
    "    sys.path.append('/content/panel-demo/Gin_Rummy_World/gin_rummy_lib')\n",
    "from util import to_int_list\n",
    "from util import sortByRankBySuit\n",
    "from DQNAgentConfig import DQNAgentConfig\n",
    "from pane.GameSettingsPane import GameSettingsPane\n",
    "\n",
    "from util import to_int_list\n",
    "from util import sortByRankBySuit\n",
    "from pane.GameSettingsPane import GameSettingsPane\n",
    "from DQNAgentConfig import DQNAgentConfig\n",
    "from RLTrainerConfig import RLTrainerConfig\n",
    "from RLTrainer import RLTrainer\n",
    "from GinRummyScorer230402 import GinRummyScorer230402\n",
    "from GameObserver import GameObserver\n",
    "from GinRummyRookie01RuleAgent import GinRummyRookie01RuleAgent\n",
    "from GameObserver import GameObserver\n",
    "from GameReviewer import GameReviewer\n",
    "from World import World\n",
    "from pane.DQNAgentPane import DQNAgentPane\n",
    "from pane.TrainerPane import TrainerPane\n",
    "from pane.ReviewPlayWindow import ReviewPlayWindow\n",
    "from pane.WorldGameSettingsView import WorldGameSettingsView\n",
    "from pane.WorldDQNAgentSettingsView import WorldDQNAgentSettingsView\n",
    "from pane.WorldRLTrainerSettingsView import WorldRLTrainerSettingsView\n",
    "from pane.TrainingResultsWindow import TrainingResultsWindow\n",
    "from pane.ReviewMatchGamesWindow import ReviewMatchGamesWindow\n",
    "\n",
    "from util import get_current_time"
   ]
  },
  {
   "cell_type": "code",
   "execution_count": null,
   "metadata": {
    "colab": {
     "base_uri": "https://localhost:8080/",
     "height": 108
    },
    "executionInfo": {
     "elapsed": 545,
     "status": "ok",
     "timestamp": 1681394674088,
     "user": {
      "displayName": "billh17",
      "userId": "12625841932899930070"
     },
     "user_tz": 300
    },
    "id": "aYANyRJhzGga",
    "outputId": "1fda86bd-3daf-4c62-c85c-808da7205498"
   },
   "outputs": [],
   "source": [
    "pn.extension(raw_css=[\"\"\"\n",
    "div.orange_border_table + table * {\n",
    "  border: 1px solid orange;\n",
    "}\n",
    "\"\"\"])\n",
    "\n",
    "css_log_widget_box = '''\n",
    ".bk.log-widget-box {\n",
    "  color: #ffffff;\n",
    "  background: #000000;\n",
    "  border: 1px black solid;\n",
    "}\n",
    "'''\n",
    "pn.extension(raw_css=[css_log_widget_box])\n",
    "\n",
    "pn.extension('tabulator')"
   ]
  },
  {
   "cell_type": "markdown",
   "metadata": {},
   "source": [
    "# Change current directory to Gin_Rummy_World"
   ]
  },
  {
   "cell_type": "code",
   "execution_count": null,
   "metadata": {},
   "outputs": [],
   "source": [
    "%cd panel-demo/Gin_Rummy_World"
   ]
  },
  {
   "cell_type": "markdown",
   "metadata": {
    "id": "GPEd-hqe1y-Z"
   },
   "source": [
    "# Final Version (Keep) 230407"
   ]
  },
  {
   "cell_type": "code",
   "execution_count": null,
   "metadata": {
    "executionInfo": {
     "elapsed": 3,
     "status": "ok",
     "timestamp": 1681394674088,
     "user": {
      "displayName": "billh17",
      "userId": "12625841932899930070"
     },
     "user_tz": 300
    },
    "id": "LWizH4T6d3QE"
   },
   "outputs": [],
   "source": [
    "# Step 1 (one time only)\n",
    "# Create an empty directory for your world.\n",
    "# For example, create a directory with the name \"Gin_Rummy_World\"\n",
    "# This directory will hold all the files that are used in your training sessions.\n",
    "# This is done one time only."
   ]
  },
  {
   "cell_type": "code",
   "execution_count": null,
   "metadata": {
    "colab": {
     "base_uri": "https://localhost:8080/"
    },
    "executionInfo": {
     "elapsed": 10858,
     "status": "ok",
     "timestamp": 1681394684944,
     "user": {
      "displayName": "billh17",
      "userId": "12625841932899930070"
     },
     "user_tz": 300
    },
    "id": "9wFkztr7aAn2",
    "outputId": "677a250f-60d4-4cbb-e885-dd4b362f1d9e"
   },
   "outputs": [],
   "source": [
    "# Step 2 (always done to get handle on the world with your choice of name.)\n",
    "\n",
    "# Open world.\n",
    "#\n",
    "# This is done each time you want to do something with your agents.\n",
    "# Here the world is called 'gin_rummy_world'. You can call it simply 'world' if you wish.\n",
    "#\n",
    "# If you do not specify the world_dir, then the current working directory is used.\n",
    "# If you specify its directory, then it must exists else a crash will result.\n",
    "# Example: gin_rummy_world = World(world_dir='../results_gin_rummy_dqn')\n",
    "#\n",
    "# Note: The world variable is the only variable that is allocated in these steps.\n",
    "#       I am trying to minimize the creation of other named variables (e.g. views and windows).\n",
    "#\n",
    "# The world_dir will hold the following:\n",
    "#   1) The file game_settings.json (It will be automatically created in step 3 if it doesn't exist).\n",
    "#   2) The directory whose name is the agent name (It will be automatically created when the agent is created).\n",
    "#       This directory holds the following files:\n",
    "#       a) the agent pth file (modified by training it in step 6);\n",
    "#       b) the file all_rows.json used by the ShowReviewMatchGamesWindow;\n",
    "#       c) the file log.txt created by play_train_match in step 6;\n",
    "#       d) the file fig.png created by play_train_match in step 6;\n",
    "#       e) the file performance.csv created by play_train_match in step 6.\n",
    "\n",
    "gin_rummy_world = World() # Using current directory as world_dir"
   ]
  },
  {
   "cell_type": "code",
   "execution_count": null,
   "metadata": {
    "colab": {
     "base_uri": "https://localhost:8080/",
     "height": 498
    },
    "executionInfo": {
     "elapsed": 278,
     "status": "ok",
     "timestamp": 1681394685212,
     "user": {
      "displayName": "billh17",
      "userId": "12625841932899930070"
     },
     "user_tz": 300
    },
    "id": "5xbKVnnTlNnD",
    "outputId": "88dcfd95-908b-4d4f-ab53-917226454ae1"
   },
   "outputs": [],
   "source": [
    "# Step 3 (optional)\n",
    "# Use WorldGameSettingsView to configure game settings (one time only)\n",
    "# After you create your first training agent in the next step, you should not change the game settings.\n",
    "# The agent assumes that it is playing with the game settings that existed when it was created.\n",
    "\n",
    "WorldGameSettingsView(world=gin_rummy_world).view"
   ]
  },
  {
   "cell_type": "code",
   "execution_count": null,
   "metadata": {
    "colab": {
     "base_uri": "https://localhost:8080/",
     "height": 792
    },
    "executionInfo": {
     "elapsed": 158,
     "status": "ok",
     "timestamp": 1681394685367,
     "user": {
      "displayName": "billh17",
      "userId": "12625841932899930070"
     },
     "user_tz": 300
    },
    "id": "EQwwoTvZn4Dr",
    "outputId": "aaeb1066-2956-4b23-9ff9-4bffac6225b2"
   },
   "outputs": [],
   "source": [
    "# Step 4 (optional)\n",
    "# Use WorldDQNAgentSettingsView to create your training agent (one time only)\n",
    "# You adjust the settings and hit the \"Create DQN Agent\" button.\n",
    "# If an agent with the chosen name already exists.\n",
    "# You will get a message on whether you were successful or not (not implemented).\n",
    "\n",
    "WorldDQNAgentSettingsView(world=gin_rummy_world).view"
   ]
  },
  {
   "cell_type": "code",
   "execution_count": null,
   "metadata": {
    "colab": {
     "base_uri": "https://localhost:8080/",
     "height": 268
    },
    "executionInfo": {
     "elapsed": 118,
     "status": "ok",
     "timestamp": 1681394685484,
     "user": {
      "displayName": "billh17",
      "userId": "12625841932899930070"
     },
     "user_tz": 300
    },
    "id": "PVCYeA7yqJBU",
    "outputId": "f31bc802-4692-440e-b1f6-0e0db2139db5"
   },
   "outputs": [],
   "source": [
    "# Step 5 (optional)\n",
    "# Use WorldRLTrainerSettingsView to set trainer settings (multiple times except for changing algorithm)\n",
    "\n",
    "WorldRLTrainerSettingsView(world=gin_rummy_world).view"
   ]
  },
  {
   "cell_type": "code",
   "execution_count": null,
   "metadata": {
    "executionInfo": {
     "elapsed": 3,
     "status": "ok",
     "timestamp": 1681394685485,
     "user": {
      "displayName": "billh17",
      "userId": "12625841932899930070"
     },
     "user_tz": 300
    },
    "id": "DNh6IZO5XAhp"
   },
   "outputs": [],
   "source": [
    "# Step 6 (optional)\n",
    "# Run training session (long)\n",
    "\n",
    "gin_rummy_world.play_train_match(num_episodes=10)"
   ]
  },
  {
   "cell_type": "code",
   "execution_count": null,
   "metadata": {
    "colab": {
     "base_uri": "https://localhost:8080/",
     "height": 939
    },
    "executionInfo": {
     "elapsed": 810,
     "status": "ok",
     "timestamp": 1681394686292,
     "user": {
      "displayName": "billh17",
      "userId": "12625841932899930070"
     },
     "user_tz": 300
    },
    "id": "y4-q_JfTWhVf",
    "outputId": "0d79d1f7-b114-4433-d7a4-af98aba1f547"
   },
   "outputs": [],
   "source": [
    "# Step 7 (optional)\n",
    "# Use TrainingResultsWindow to see results of training (optional)\n",
    "# Repeat steps 5, 6, 7 as often as you want. Of course, step 5 and 7 will be optional.\n",
    "\n",
    "TrainingResultsWindow(world=gin_rummy_world)"
   ]
  },
  {
   "cell_type": "code",
   "execution_count": null,
   "metadata": {
    "colab": {
     "base_uri": "https://localhost:8080/",
     "height": 1000
    },
    "executionInfo": {
     "elapsed": 114,
     "status": "ok",
     "timestamp": 1681394686403,
     "user": {
      "displayName": "billh17",
      "userId": "12625841932899930070"
     },
     "user_tz": 300
    },
    "id": "_mp8nubmrTo9",
    "outputId": "fc50043e-ceb4-44fb-dac5-40c643e06286"
   },
   "outputs": [],
   "source": [
    "# Step 8 (optional)\n",
    "# Use ReviewMatchGamesWindow to review how well the dqn_agent is doing (optional)\n",
    "# Note that 0 <= max_review_episodes <= 1000.\n",
    "# Repeat steps 5 trough 8.\n",
    "\n",
    "ReviewMatchGamesWindow(world=gin_rummy_world)"
   ]
  },
  {
   "cell_type": "code",
   "execution_count": null,
   "metadata": {
    "executionInfo": {
     "elapsed": 3,
     "status": "ok",
     "timestamp": 1681394686995,
     "user": {
      "displayName": "billh17",
      "userId": "12625841932899930070"
     },
     "user_tz": 300
    },
    "id": "YE44junD6K5_"
   },
   "outputs": [],
   "source": []
  }
 ],
 "metadata": {
  "colab": {
   "authorship_tag": "ABX9TyPfxD+eah1G9zLo9YHAUc1K",
   "mount_file_id": "1s3SU5n5D6X6ib_Cs-wvNw1W6NRcn1yIh",
   "provenance": [
    {
     "file_id": "1JDb88xkLhYbzFip9leDGOI_WOpjJIFlQ",
     "timestamp": 1681016937352
    }
   ]
  },
  "gpuClass": "standard",
  "kernelspec": {
   "display_name": "Python 3 (ipykernel)",
   "language": "python",
   "name": "python3"
  },
  "language_info": {
   "codemirror_mode": {
    "name": "ipython",
    "version": 3
   },
   "file_extension": ".py",
   "mimetype": "text/x-python",
   "name": "python",
   "nbconvert_exporter": "python",
   "pygments_lexer": "ipython3",
   "version": "3.10.4"
  }
 },
 "nbformat": 4,
 "nbformat_minor": 4
}
