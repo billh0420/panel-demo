{
 "cells": [
  {
   "cell_type": "code",
   "execution_count": null,
   "metadata": {
    "id": "ghwIWpc9Z_Z1"
   },
   "outputs": [],
   "source": [
    "# imports\n",
    "import panel as pn\n",
    "import pandas as pd\n",
    "import numpy as np"
   ]
  },
  {
   "cell_type": "code",
   "execution_count": null,
   "metadata": {
    "colab": {
     "base_uri": "https://localhost:8080/",
     "height": 17
    },
    "executionInfo": {
     "elapsed": 411,
     "status": "ok",
     "timestamp": 1681147235508,
     "user": {
      "displayName": "billh17",
      "userId": "12625841932899930070"
     },
     "user_tz": 300
    },
    "id": "QOr6BM4obvNJ",
    "outputId": "938e57f4-d266-49d3-fce6-ca0cc510209c"
   },
   "outputs": [],
   "source": [
    "pn.extension() # Needed for notebook"
   ]
  },
  {
   "cell_type": "code",
   "execution_count": null,
   "metadata": {
    "colab": {
     "base_uri": "https://localhost:8080/",
     "height": 296
    },
    "executionInfo": {
     "elapsed": 541,
     "status": "ok",
     "timestamp": 1681147236045,
     "user": {
      "displayName": "billh17",
      "userId": "12625841932899930070"
     },
     "user_tz": 300
    },
    "id": "844KY3AQabq5",
    "outputId": "421e11d0-e935-40a9-966d-b31df8ca2506"
   },
   "outputs": [],
   "source": [
    "# Headings of different sizes (Use Markdown)\n",
    "def different_sized_headings():\n",
    "    title_1 = pn.pane.Markdown(f'# Title 1')\n",
    "    title_2 = pn.pane.Markdown(f'## Title 2')\n",
    "    title_3 = pn.pane.Markdown(f'### Title 3')\n",
    "    title_4 = pn.pane.Markdown(f'#### Title 4')\n",
    "    title_5 = pn.pane.Markdown(f'##### Title 5')\n",
    "    return pn.Column(pn.pane.Str('Different sized titles using Markdown:'), title_1, title_2, title_3, title_4, title_5)\n",
    "different_sized_headings()"
   ]
  },
  {
   "cell_type": "code",
   "execution_count": null,
   "metadata": {
    "colab": {
     "base_uri": "https://localhost:8080/",
     "height": 128
    },
    "executionInfo": {
     "elapsed": 375,
     "status": "ok",
     "timestamp": 1681147236417,
     "user": {
      "displayName": "billh17",
      "userId": "12625841932899930070"
     },
     "user_tz": 300
    },
    "id": "xFEqPi_bagD4",
    "outputId": "fb1b5965-a53e-4467-f909-06ebce0d6aaf"
   },
   "outputs": [],
   "source": [
    "# Slider that changes its size\n",
    "def changing_sized_slider():\n",
    "    def update_slider(event):\n",
    "        # some fields that event holds\n",
    "        old = event.old # old value being watched\n",
    "        new = event.new # new value being watched\n",
    "        what = event.what\n",
    "        name = event.name\n",
    "        obj = event.obj\n",
    "        # do update\n",
    "        event_type = event.type\n",
    "        slider.start = 0\n",
    "        slider.value = new // 2\n",
    "        slider.end = new\n",
    "    slider = pn.widgets.IntSlider(start=0, end=52, value=26)\n",
    "    changer = pn.widgets.IntInput(name=f'Change slider size', width=200)\n",
    "    changer.param.watch(update_slider, 'value')\n",
    "    return pn.Column(slider, changer)\n",
    "changing_sized_slider()"
   ]
  },
  {
   "cell_type": "code",
   "execution_count": null,
   "metadata": {
    "colab": {
     "base_uri": "https://localhost:8080/",
     "height": 168
    },
    "executionInfo": {
     "elapsed": 5,
     "status": "ok",
     "timestamp": 1681147236417,
     "user": {
      "displayName": "billh17",
      "userId": "12625841932899930070"
     },
     "user_tz": 300
    },
    "id": "iW_6KPfgkeyV",
    "outputId": "382a30d7-06e2-48ac-f5ee-955d24a6b573"
   },
   "outputs": [],
   "source": [
    "# DiscretePlayer that changes its size\n",
    "def changing_sized_discrete_player():\n",
    "\n",
    "    def update_discrete_player(event):\n",
    "        # some fields that event holds\n",
    "        old = event.old # old value being watched\n",
    "        new = event.new # new value being watched\n",
    "        what = event.what\n",
    "        name = event.name\n",
    "        obj = event.obj\n",
    "        # do update\n",
    "        event_type = event.type\n",
    "        discrete_player.value = 0\n",
    "        discrete_player.options = list(range(event.new))\n",
    "\n",
    "    changer = pn.widgets.IntInput(name=f'Change discrete_player size', value=10, width=200)\n",
    "    discrete_player = pn.widgets.DiscretePlayer(name='Row', options=list(range(changer.value)), value=0, loop_policy='once', interval=1000 * 2)\n",
    "    changer.param.watch(update_discrete_player, 'value')\n",
    "\n",
    "    return pn.Column(discrete_player, changer)\n",
    "\n",
    "changing_sized_discrete_player()"
   ]
  },
  {
   "cell_type": "code",
   "execution_count": null,
   "metadata": {
    "colab": {
     "base_uri": "https://localhost:8080/",
     "height": 35
    },
    "executionInfo": {
     "elapsed": 4,
     "status": "ok",
     "timestamp": 1681147236417,
     "user": {
      "displayName": "billh17",
      "userId": "12625841932899930070"
     },
     "user_tz": 300
    },
    "id": "Dp6EmlQUeGnQ",
    "outputId": "5b580e7f-b716-46da-8084-9f57f70a4a8b"
   },
   "outputs": [],
   "source": [
    "def fn(a,b): return f'Arguments: {a,b}'\n",
    "slider = pn.widgets.FloatSlider(value=0.5)\n",
    "\n",
    "bound_fn = pn.bind(fn, a=slider, b=2)\n",
    "bound_fn()"
   ]
  },
  {
   "cell_type": "markdown",
   "metadata": {
    "id": "hAGijwzPGzZ5"
   },
   "source": [
    "# Controlling style & layout"
   ]
  },
  {
   "cell_type": "code",
   "execution_count": null,
   "metadata": {
    "colab": {
     "base_uri": "https://localhost:8080/",
     "height": 233
    },
    "executionInfo": {
     "elapsed": 289,
     "status": "ok",
     "timestamp": 1681147236702,
     "user": {
      "displayName": "billh17",
      "userId": "12625841932899930070"
     },
     "user_tz": 300
    },
    "id": "inT1sbFmiEMd",
    "outputId": "62831d72-ee21-4e2f-c4b7-477c63200347"
   },
   "outputs": [],
   "source": [
    "css = '''\n",
    ".bk.panel-widget-box {\n",
    "  #background: #f0f0f0;\n",
    "  #background:  #00ff00;\n",
    "  background: #008000;\n",
    "  border-radius: 15px;\n",
    "  border: 1px black solid;\n",
    "}\n",
    "'''\n",
    "\n",
    "pn.extension(raw_css=[css])\n",
    "\n",
    "pn.Column(\n",
    "    pn.widgets.FloatSlider(name='Number', margin=(10, 5, 5, 10)),\n",
    "    pn.widgets.Select(name='Fruit', options=['Apple', 'Orange', 'Pear'], margin=(0, 5, 5, 10)),\n",
    "    pn.widgets.Button(name='Run', margin=(5, 10, 10, 10), css_classes=['panel-widget-box']),\n",
    "    css_classes=['panel-widget-box']\n",
    ")"
   ]
  },
  {
   "cell_type": "code",
   "execution_count": null,
   "metadata": {
    "colab": {
     "base_uri": "https://localhost:8080/",
     "height": 127
    },
    "executionInfo": {
     "elapsed": 241,
     "status": "ok",
     "timestamp": 1681147236939,
     "user": {
      "displayName": "billh17",
      "userId": "12625841932899930070"
     },
     "user_tz": 300
    },
    "id": "jgx-1oBEG6jH",
    "outputId": "54eed081-a454-42be-a99f-f1ac7e3c8ca6"
   },
   "outputs": [],
   "source": [
    "# background\n",
    "pn.pane.HTML(background='#f307eb', width=100, height=100)"
   ]
  },
  {
   "cell_type": "code",
   "execution_count": null,
   "metadata": {
    "colab": {
     "base_uri": "https://localhost:8080/",
     "height": 183
    },
    "executionInfo": {
     "elapsed": 199,
     "status": "ok",
     "timestamp": 1681147237134,
     "user": {
      "displayName": "billh17",
      "userId": "12625841932899930070"
     },
     "user_tz": 300
    },
    "id": "2md8BNwYHBtg",
    "outputId": "b7ddfc38-8b4f-49e1-c6b7-de6dc3bf5a0a"
   },
   "outputs": [],
   "source": [
    "# loading spinner\n",
    "pn.extension(loading_spinner='dots', loading_color='#00aa41') # 'arc' ‘arcs’, ‘bar’, ‘dots’, ‘petal’\n",
    "html_pane = pn.pane.HTML(background='#008000', width=100, height=100)\n",
    "html_pane.loading = True # set to True to spin, False to not spin\n",
    "html_pane"
   ]
  },
  {
   "cell_type": "code",
   "execution_count": null,
   "metadata": {
    "colab": {
     "base_uri": "https://localhost:8080/",
     "height": 63
    },
    "executionInfo": {
     "elapsed": 4,
     "status": "ok",
     "timestamp": 1681147237134,
     "user": {
      "displayName": "billh17",
      "userId": "12625841932899930070"
     },
     "user_tz": 300
    },
    "id": "f_ptAU29HMwg",
    "outputId": "b9af06b1-e478-4014-b01c-f0deaf4fa6b0"
   },
   "outputs": [],
   "source": [
    "# style\n",
    "pn.pane.Markdown('### A serif Markdown heading', style={'font-family': \"serif\"})"
   ]
  },
  {
   "cell_type": "code",
   "execution_count": null,
   "metadata": {
    "colab": {
     "base_uri": "https://localhost:8080/",
     "height": 117
    },
    "executionInfo": {
     "elapsed": 474,
     "status": "ok",
     "timestamp": 1681147237606,
     "user": {
      "displayName": "billh17",
      "userId": "12625841932899930070"
     },
     "user_tz": 300
    },
    "id": "hO88fQeNHjfR",
    "outputId": "84565aa2-b748-40c0-c4b3-d9a97b3a59e6"
   },
   "outputs": [],
   "source": [
    "# visible\n",
    "a = pn.pane.HTML(width=60, height=60, background='green')\n",
    "b = pn.pane.HTML(width=60, height=60, background='blue', visible=False)\n",
    "c = pn.pane.HTML(width=60, height=60, background='red')\n",
    "layout = pn.Row(a, b, c)\n",
    "controls = pn.Row(*(c.controls(['visible'])[1] for c in layout))\n",
    "for c in controls:\n",
    "    c.width = 50\n",
    "pn.Column(controls, layout)"
   ]
  },
  {
   "cell_type": "code",
   "execution_count": null,
   "metadata": {
    "colab": {
     "base_uri": "https://localhost:8080/",
     "height": 59
    },
    "executionInfo": {
     "elapsed": 132,
     "status": "ok",
     "timestamp": 1681147709328,
     "user": {
      "displayName": "billh17",
      "userId": "12625841932899930070"
     },
     "user_tz": 300
    },
    "id": "t1A6UlQ8MzOp",
    "outputId": "093bc554-3969-4255-a803-efbf445a3959"
   },
   "outputs": [],
   "source": [
    "import time\n",
    "\n",
    "button = pn.widgets.Button(name='Run train model')\n",
    "text = pn.widgets.StaticText()\n",
    "\n",
    "def run_it(event):\n",
    "    text.value = f'Running {event.new}'\n",
    "    time.sleep(5) # long running process\n",
    "    text.value = f'Finished {event.new}'\n",
    "\n",
    "button.on_click(run_it)\n",
    "\n",
    "pn.Row(button, text)"
   ]
  },
  {
   "cell_type": "code",
   "execution_count": null,
   "metadata": {
    "colab": {
     "base_uri": "https://localhost:8080/",
     "height": 149
    },
    "executionInfo": {
     "elapsed": 181,
     "status": "ok",
     "timestamp": 1681147237784,
     "user": {
      "displayName": "billh17",
      "userId": "12625841932899930070"
     },
     "user_tz": 300
    },
    "id": "wTQM7epQHssC",
    "outputId": "ac68a916-0d1a-4df7-cb95-4b5230cdac83"
   },
   "outputs": [],
   "source": [
    "# margin (top, right, bottom, left) clockwise\n",
    "margin=25 # top, bottom, left, and right margins are 25px\n",
    "margin=(25, 50) # top and bottom margins are 25px; right and left margins are 50px\n",
    "margin=(25, 50, 75, 100) # top margin is 25px; right margin is 50px; bottom margin is 75px; left margin is 100px\n",
    "pn.Row(\n",
    "    pn.Column(pn.widgets.Button(name='Run', margin=25), background='#f0f0f0'),\n",
    "    pn.Column(pn.widgets.Button(name='Run', margin=(10, 50)), background='#f0f0f0'),\n",
    "    pn.Column(pn.widgets.Button(name='Run', margin=(25, 10, 75, 100)), background='#f0f0f0'))"
   ]
  },
  {
   "cell_type": "code",
   "execution_count": null,
   "metadata": {
    "colab": {
     "base_uri": "https://localhost:8080/",
     "height": 67
    },
    "executionInfo": {
     "elapsed": 186,
     "status": "ok",
     "timestamp": 1681147237966,
     "user": {
      "displayName": "billh17",
      "userId": "12625841932899930070"
     },
     "user_tz": 300
    },
    "id": "4NVMsVA6Hzcy",
    "outputId": "915f4631-f791-4d05-e80f-183284900e26"
   },
   "outputs": [],
   "source": [
    "# align:  ‘start’, ‘center’, and ‘end’\n",
    "pn.Row(pn.widgets.IntSlider(name='Test'), pn.widgets.IntSlider(align='end'))"
   ]
  },
  {
   "cell_type": "code",
   "execution_count": null,
   "metadata": {
    "colab": {
     "base_uri": "https://localhost:8080/",
     "height": 157
    },
    "executionInfo": {
     "elapsed": 185,
     "status": "ok",
     "timestamp": 1681147238148,
     "user": {
      "displayName": "billh17",
      "userId": "12625841932899930070"
     },
     "user_tz": 300
    },
    "id": "mwQb3ezMH8TS",
    "outputId": "f074f0df-43e9-4749-a383-c2b2beaf2474"
   },
   "outputs": [],
   "source": [
    "# can be set for both horizontal and vertical directions at once or for each separately by passing in a tuple of the form (horizontal, vertical)\n",
    "pn.GridBox(\n",
    "    pn.widgets.IntSlider(name='Test1'), pn.widgets.IntSlider(align='end'),\n",
    "    pn.widgets.TextInput(name='Test2', width=150, height=80), pn.widgets.TextInput(name='Test3', width=150, align=('center', 'center')),\n",
    "    ncols=2)"
   ]
  },
  {
   "cell_type": "code",
   "execution_count": null,
   "metadata": {
    "colab": {
     "base_uri": "https://localhost:8080/",
     "height": 282
    },
    "executionInfo": {
     "elapsed": 321,
     "status": "ok",
     "timestamp": 1681147446915,
     "user": {
      "displayName": "billh17",
      "userId": "12625841932899930070"
     },
     "user_tz": 300
    },
    "id": "d1lMKJVfMWJb",
    "outputId": "5ce5bfbc-4156-4c17-cf5a-05edc1d4c518"
   },
   "outputs": [],
   "source": [
    "from panel.interact import interact, fixed\n",
    "\n",
    "def f(x):\n",
    "    return x\n",
    "view1 = interact(f, x=['apples', 'oranges'])\n",
    "view2 = interact(f, x=dict([('one', 10), ('two', 20), ('three', 30)])) # When working with numeric data interact will automatically add a discrete slider:\n",
    "view3 = interact(f, x=(0.0, 20.0, None, 5.5), throttled=True) # Note: this is useful\n",
    "pn.Column(view1, view2, view3)"
   ]
  },
  {
   "cell_type": "code",
   "execution_count": null,
   "metadata": {
    "colab": {
     "base_uri": "https://localhost:8080/",
     "height": 217
    },
    "executionInfo": {
     "elapsed": 5,
     "status": "ok",
     "timestamp": 1681147238148,
     "user": {
      "displayName": "billh17",
      "userId": "12625841932899930070"
     },
     "user_tz": 300
    },
    "id": "jZ_GLcyhIC5y",
    "outputId": "666b0a6d-8160-4109-91ba-055db6d276c8"
   },
   "outputs": [],
   "source": [
    "# Responsive sizing: 'stretch_width' 'stretch_height' 'stretch_both'\n",
    "# Also can use: “scale_height” “scale_width” “scale_both”\n",
    "pn.Row(\n",
    "    pn.pane.Str(background='orange', height=100, sizing_mode='stretch_width'), width_policy='max', height=200\n",
    ")"
   ]
  },
  {
   "cell_type": "code",
   "execution_count": null,
   "metadata": {
    "colab": {
     "base_uri": "https://localhost:8080/",
     "height": 95
    },
    "executionInfo": {
     "elapsed": 142,
     "status": "ok",
     "timestamp": 1681147238286,
     "user": {
      "displayName": "billh17",
      "userId": "12625841932899930070"
     },
     "user_tz": 300
    },
    "id": "w7n2YtPEIKsC",
    "outputId": "ebe2b9c3-6747-4268-aabe-0943ebf42b41"
   },
   "outputs": [],
   "source": [
    "pn.Row(\n",
    "    pn.layout.HSpacer(), '* Item 1\\n* Item2', pn.layout.HSpacer(), '1. First\\n2. Second', pn.layout.HSpacer()\n",
    ")"
   ]
  },
  {
   "cell_type": "code",
   "execution_count": null,
   "metadata": {
    "colab": {
     "base_uri": "https://localhost:8080/",
     "height": 402
    },
    "executionInfo": {
     "elapsed": 1061,
     "status": "ok",
     "timestamp": 1681147239344,
     "user": {
      "displayName": "billh17",
      "userId": "12625841932899930070"
     },
     "user_tz": 300
    },
    "id": "Iryrybz1ISGD",
    "outputId": "e404b1b6-1852-4c9c-fb20-195d6b99dc17"
   },
   "outputs": [],
   "source": [
    "# need tabulator extension (need invoke just once)\n",
    "pn.extension('tabulator')\n",
    "\n",
    "# Read the data\n",
    "df = pd.read_csv(\"https://raw.githubusercontent.com/plotly/datasets/master/US-shooting-incidents.csv\")\n",
    "\n",
    "# Let us only take 10 samples\n",
    "df = df.sample(10)\n",
    "\n",
    "# One width for all \n",
    "pn.widgets.Tabulator(df, widths=130)\n",
    "\n",
    "# Automatically adjust the columns dependending on their content\n",
    "pn.widgets.Tabulator(df, layout='fit_data', width=1200)\n",
    "\n",
    "# The table fits all the data but also stretches to fill all the available space\n",
    "pn.widgets.Tabulator(df, layout='fit_data_stretch', width=1200)"
   ]
  },
  {
   "cell_type": "code",
   "execution_count": null,
   "metadata": {
    "colab": {
     "base_uri": "https://localhost:8080/",
     "height": 376
    },
    "executionInfo": {
     "elapsed": 242,
     "status": "ok",
     "timestamp": 1681147239585,
     "user": {
      "displayName": "billh17",
      "userId": "12625841932899930070"
     },
     "user_tz": 300
    },
    "id": "9SXIuZ8eK96P",
    "outputId": "c10d38db-1ca9-4a17-b908-a7f0bc92a648"
   },
   "outputs": [],
   "source": [
    "pn.widgets.Tabulator.theme = 'bulma'\n",
    "pn.widgets.Tabulator(df)"
   ]
  },
  {
   "cell_type": "code",
   "execution_count": null,
   "metadata": {
    "colab": {
     "base_uri": "https://localhost:8080/",
     "height": 238
    },
    "executionInfo": {
     "elapsed": 157,
     "status": "ok",
     "timestamp": 1681147239739,
     "user": {
      "displayName": "billh17",
      "userId": "12625841932899930070"
     },
     "user_tz": 300
    },
    "id": "lozUgdQAJTXW",
    "outputId": "c07e3002-8d28-46ef-8cb4-bb7718d2e7ea"
   },
   "outputs": [],
   "source": [
    "import datetime as dt\n",
    "\n",
    "df = pd.DataFrame({\n",
    "    'city': [\"A\", \"B\", \"C\", \"D\", \"E\"],\n",
    "    'latitude': [34.6578, 76.6789, 23.7896, 45.6785, 14.2545],\n",
    "    'longitude': [78.6453, 46.8743, 84.3563, 14.8243, 25.6537],\n",
    "    'large': [False, False, True, False, True],\n",
    "    'date': [dt.date(2018, 2, 6), dt.date(2012, 4, 8), dt.date(2019, 3, 11), dt.date(2021, 7, 9), dt.date(2021, 4, 6)]\n",
    "}, index=[1, 2, 3, 4, 5])\n",
    "\n",
    "df_tab = pn.widgets.Tabulator(df)\n",
    "df_tab"
   ]
  },
  {
   "cell_type": "code",
   "execution_count": null,
   "metadata": {
    "colab": {
     "base_uri": "https://localhost:8080/",
     "height": 238
    },
    "executionInfo": {
     "elapsed": 255,
     "status": "ok",
     "timestamp": 1681147239992,
     "user": {
      "displayName": "billh17",
      "userId": "12625841932899930070"
     },
     "user_tz": 300
    },
    "id": "w4cu5Hz8KDF7",
    "outputId": "b68c68f1-2c7b-48f6-d70e-331e7b085849"
   },
   "outputs": [],
   "source": [
    "from bokeh.models.widgets.tables import NumberFormatter, BooleanFormatter\n",
    "\n",
    "bokeh_formatters = {\n",
    "    'latitude': NumberFormatter(format='0.00'),\n",
    "    'large': BooleanFormatter(),\n",
    "   \n",
    "}\n",
    "\n",
    "pn.widgets.Tabulator(df, formatters=bokeh_formatters)"
   ]
  },
  {
   "cell_type": "code",
   "execution_count": null,
   "metadata": {
    "colab": {
     "base_uri": "https://localhost:8080/",
     "height": 243
    },
    "executionInfo": {
     "elapsed": 232,
     "status": "ok",
     "timestamp": 1681147240221,
     "user": {
      "displayName": "billh17",
      "userId": "12625841932899930070"
     },
     "user_tz": 300
    },
    "id": "YeHD1LSyKgPN",
    "outputId": "3c7b85d6-e825-44f3-cfc3-43e7ce88f88b"
   },
   "outputs": [],
   "source": [
    "pn.widgets.Tabulator(df, theme='simple', formatters=bokeh_formatters)"
   ]
  },
  {
   "cell_type": "code",
   "execution_count": null,
   "metadata": {
    "colab": {
     "base_uri": "https://localhost:8080/",
     "height": 206
    },
    "executionInfo": {
     "elapsed": 4,
     "status": "ok",
     "timestamp": 1681147240222,
     "user": {
      "displayName": "billh17",
      "userId": "12625841932899930070"
     },
     "user_tz": 300
    },
    "id": "5MvtpRuBKQX7",
    "outputId": "25f4ae28-e6e3-400e-8994-f448b6436e09"
   },
   "outputs": [],
   "source": [
    "formatters = {\n",
    "    'latitude': {'type': 'progress', 'max': 90.00, 'color':'red'},\n",
    "    'longitude': {'type': 'progress', 'max': 180.00},\n",
    "    'large': {'type': 'tickCross'},\n",
    "    \n",
    "}\n",
    "\n",
    "pn.widgets.Tabulator(df, formatters=formatters)"
   ]
  },
  {
   "cell_type": "code",
   "execution_count": null,
   "metadata": {
    "id": "-tYtdI06eAnl"
   },
   "outputs": [],
   "source": [
    "class TestWindow:\n",
    "\n",
    "    def __init__(self):\n",
    "        self.markdown_pane = pn.pane.Markdown(\"?\")\n",
    "        self.text_input = pn.widgets.TextInput(value='type')\n",
    "\n",
    "        # link\n",
    "        self.text_input.link(self.markdown_pane, callbacks={'value' : self.update_markdown_pane})\n",
    "\n",
    "        # watch\n",
    "        self.selections = pn.pane.Markdown(object='')\n",
    "        self.selected = pn.pane.Markdown(object='')\n",
    "        self.toggle = pn.widgets.ToggleGroup(options=['A', 'B'])\n",
    "        self.watcher = self.toggle.param.watch(self.handle_toggle, ['options', 'value'], onlychanged=False)\n",
    "        self.toggle.param.trigger('options', 'value')\n",
    "\n",
    "        # set_param (batch change)\n",
    "        options = ['A','B','C','D']\n",
    "        self.toggle.param.set_param(options=dict(zip(options,options)), value=['C'])\n",
    "\n",
    "    def update_markdown_pane(self, target, event):\n",
    "        target.object = event.new.upper() + ': ' + f'{event}'\n",
    "\n",
    "    def handle_toggle(self, *events):\n",
    "        print(events)\n",
    "        for event in events:\n",
    "            if event.name == 'options':\n",
    "                self.selections.object = 'Possible options: %s' % ', '.join(event.new)\n",
    "            elif event.name == 'value':\n",
    "                self.selected.object = 'Selected: %s' % ','.join(event.new)\n",
    "\n",
    "    @property\n",
    "    def window(self):\n",
    "        window = pn.Column(self.text_input, self.markdown_pane, self.selections, self.selected, self.toggle)\n",
    "        return window\n",
    "\n",
    "testWindow = TestWindow()\n",
    "testWindow.window"
   ]
  },
  {
   "cell_type": "markdown",
   "metadata": {
    "id": "CSM2FKsTeeA1"
   },
   "source": [
    "# Scrolling"
   ]
  },
  {
   "cell_type": "code",
   "execution_count": null,
   "metadata": {
    "colab": {
     "base_uri": "https://localhost:8080/",
     "height": 187
    },
    "executionInfo": {
     "elapsed": 119,
     "status": "ok",
     "timestamp": 1681152188564,
     "user": {
      "displayName": "billh17",
      "userId": "12625841932899930070"
     },
     "user_tz": 300
    },
    "id": "IJdCAHbAegom",
    "outputId": "39cfd51d-4075-463a-eb32-4d1b5c9a214c"
   },
   "outputs": [],
   "source": [
    "scrolling_panel = pn.pane.HTML('''<div style=\"width:600px;height:150px;line-height:2em;overflow:scroll;padding:5px;\">\n",
    "This 'div' element uses 'overflow:scroll' to create scrollbars. \n",
    "<p>\n",
    "Lorem ipsum dolor sit amet, consectetur adipiscing elit, sed do\n",
    "eiusmod tempor incididunt ut labore et dolore magna aliqua. Ut enim ad\n",
    "minim veniam, quis nostrud exercitation ullamco laboris nisi ut\n",
    "aliquip ex ea commodo consequat. Duis aute irure dolor in\n",
    "reprehenderit in voluptate velit esse cillum dolore eu fugiat nulla\n",
    "pariatur. Excepteur sint occaecat cupidatat non proident, sunt in\n",
    "culpa qui officia deserunt mollit anim id est laborum.\n",
    "<p>\n",
    "Lorem ipsum dolor sit amet, consectetur adipiscing elit, sed do\n",
    "eiusmod tempor incididunt ut labore et dolore magna aliqua. Ut enim ad\n",
    "minim veniam, quis nostrud exercitation ullamco laboris nisi ut\n",
    "aliquip ex ea commodo consequat. Duis aute irure dolor in\n",
    "reprehenderit in voluptate velit esse cillum dolore eu fugiat nulla\n",
    "pariatur. Excepteur sint occaecat cupidatat non proident, sunt in\n",
    "culpa qui officia deserunt mollit anim id est laborum.\n",
    "</div>''')\n",
    "\n",
    "scrolling_panel"
   ]
  },
  {
   "cell_type": "code",
   "execution_count": null,
   "metadata": {
    "colab": {
     "base_uri": "https://localhost:8080/",
     "height": 227
    },
    "executionInfo": {
     "elapsed": 119,
     "status": "ok",
     "timestamp": 1681152231455,
     "user": {
      "displayName": "billh17",
      "userId": "12625841932899930070"
     },
     "user_tz": 300
    },
    "id": "lanT5KvsezNf",
    "outputId": "0e1825ac-5ac4-4df4-fa82-35ca69001681"
   },
   "outputs": [],
   "source": [
    "text = \"\"\"Lorem ipsum dolor sit amet, consectetur adipiscing elit, sed do\n",
    "eiusmod tempor incididunt ut labore et dolore magna aliqua. Ut enim ad\n",
    "minim veniam, quis nostrud exercitation ullamco laboris nisi ut\n",
    "aliquip ex ea commodo consequat. Duis aute irure dolor in\n",
    "reprehenderit in voluptate velit esse cillum dolore eu fugiat nulla\n",
    "pariatur. Excepteur sint occaecat cupidatat non proident, sunt in\n",
    "culpa qui officia deserunt mollit anim id est laborum.\n",
    "\"\"\"\n",
    "lines = [ ]\n",
    "for line in (text + text).split(\"\\n\"):\n",
    "    lines.append(line)\n",
    "    lines.append(\"\\n\")\n",
    "output = \"\\n\".join(lines)\n",
    "pn.Card(pn.pane.Markdown(output),\n",
    "        collapsed=False, collapsible=False, width=600, height=200, height_policy='fixed', scroll=True)"
   ]
  },
  {
   "cell_type": "markdown",
   "metadata": {
    "id": "xA-SDrq5OdnI"
   },
   "source": [
    "# Throttle"
   ]
  },
  {
   "cell_type": "code",
   "execution_count": null,
   "metadata": {
    "colab": {
     "base_uri": "https://localhost:8080/",
     "height": 107
    },
    "executionInfo": {
     "elapsed": 131,
     "status": "ok",
     "timestamp": 1681147977820,
     "user": {
      "displayName": "billh17",
      "userId": "12625841932899930070"
     },
     "user_tz": 300
    },
    "id": "HkSDhmGKLPry",
    "outputId": "05e5287f-45a7-467f-a5a5-d6d2f9e2ea60"
   },
   "outputs": [],
   "source": [
    "discrete_player = pn.widgets.DiscretePlayer(name='Discrete Player', options=[x for x in range(100)], value=0, loop_policy='once', interval=500)\n",
    "discrete_player"
   ]
  },
  {
   "cell_type": "code",
   "execution_count": null,
   "metadata": {
    "colab": {
     "base_uri": "https://localhost:8080/",
     "height": 132
    },
    "executionInfo": {
     "elapsed": 120,
     "status": "ok",
     "timestamp": 1681147979436,
     "user": {
      "displayName": "billh17",
      "userId": "12625841932899930070"
     },
     "user_tz": 300
    },
    "id": "W5gC3hwLOilX",
    "outputId": "35974b76-30e7-4184-bb18-3a4c8b0a184c"
   },
   "outputs": [],
   "source": [
    "text = pn.widgets.StaticText(value=\"heyyy\")\n",
    "def hey(event):\n",
    "    print(f'name={event.name} value_throttled={event.obj.value_throttled}')\n",
    "    text.value = \"\".join(['hey'] * event.new)\n",
    "range_slider = pn.widgets.IntSlider(start=0, end=15, value_throttled=0)\n",
    "range_slider.param.watch(hey, \"value_throttled\")\n",
    "pn.Column(text, range_slider)"
   ]
  },
  {
   "cell_type": "code",
   "execution_count": null,
   "metadata": {
    "colab": {
     "base_uri": "https://localhost:8080/",
     "height": 97
    },
    "executionInfo": {
     "elapsed": 146,
     "status": "ok",
     "timestamp": 1681148015797,
     "user": {
      "displayName": "billh17",
      "userId": "12625841932899930070"
     },
     "user_tz": 300
    },
    "id": "GjcD0aH_OmU3",
    "outputId": "c1450cab-f6c0-4980-d503-8fdfbee16399"
   },
   "outputs": [],
   "source": [
    "text2 = pn.widgets.StaticText(value=\"heyyy\")\n",
    "def hey2(event):\n",
    "    text2.value = \"\".join(['hey'] * event.new)\n",
    "range_slider2 = pn.widgets.IntSlider(start=0, end=15, value=0)\n",
    "range_slider2.param.watch(hey2, \"value\")\n",
    "pn.Column(text2, range_slider2)"
   ]
  },
  {
   "cell_type": "markdown",
   "metadata": {
    "id": "zXRsC3a9Seoo"
   },
   "source": [
    "# Maybe something to look at (example from internet)"
   ]
  },
  {
   "cell_type": "code",
   "execution_count": null,
   "metadata": {
    "colab": {
     "base_uri": "https://localhost:8080/",
     "height": 827
    },
    "executionInfo": {
     "elapsed": 2465,
     "status": "ok",
     "timestamp": 1681149030889,
     "user": {
      "displayName": "billh17",
      "userId": "12625841932899930070"
     },
     "user_tz": 300
    },
    "id": "LXJz_8gIOvMI",
    "outputId": "3ee5acc0-c535-48bf-cf48-0b8a596e5b6c"
   },
   "outputs": [],
   "source": [
    "import holoviews as hv\n",
    "import holoviews.plotting.bokeh\n",
    "\n",
    "from bokeh.plotting import figure\n",
    "\n",
    "fig = figure()\n",
    "fig.scatter([0, 1, 2, 3, 4, 5, 6, 7, 8, 9], [0, 1, 2, 3, 2, 1, 0, -1, -2, -3])\n",
    "\n",
    "gspec = pn.GridSpec(sizing_mode='stretch_both', max_height=800, max_width=800)\n",
    "\n",
    "gspec[0, :3] = pn.Spacer(background='#FF0000')\n",
    "gspec[1:3, 0] = pn.Spacer(background='#0000FF')\n",
    "gspec[1:3, 1:3] = fig\n",
    "gspec[3:5, 0] = hv.Curve([1, 2, 3])\n",
    "gspec[3:5, 1] = 'https://upload.wikimedia.org/wikipedia/commons/4/47/PNG_transparency_demonstration_1.png'\n",
    "gspec[4:5, 2] = pn.Column(\n",
    "    pn.widgets.FloatSlider(),\n",
    "    pn.widgets.ColorPicker(),\n",
    "    pn.widgets.Toggle(name='Toggle Me!'))\n",
    "\n",
    "gspec"
   ]
  },
  {
   "cell_type": "markdown",
   "metadata": {
    "id": "KN9O-ghnS1RI"
   },
   "source": [
    "# Maybe something to look at (example from internet)"
   ]
  },
  {
   "cell_type": "code",
   "execution_count": null,
   "metadata": {
    "colab": {
     "base_uri": "https://localhost:8080/",
     "height": 288
    },
    "executionInfo": {
     "elapsed": 630,
     "status": "ok",
     "timestamp": 1681149137419,
     "user": {
      "displayName": "billh17",
      "userId": "12625841932899930070"
     },
     "user_tz": 300
    },
    "id": "hiHC9kfBSmcx",
    "outputId": "e82b75d1-0039-4048-e84c-0e74e2c4b06f"
   },
   "outputs": [],
   "source": [
    "class css_style_table_example:\n",
    "    css = \"\"\"\n",
    "    div.special_table + table * {\n",
    "    border: 1px solid orange;\n",
    "    }\n",
    "    \"\"\"\n",
    "\n",
    "    pn.extension(raw_css=[css])\n",
    "\n",
    "    css_2 = \"\"\"\n",
    "    div.special_table_2 + table * {\n",
    "    border: 1px solid blue;\n",
    "    }\n",
    "    \"\"\"\n",
    "\n",
    "    pn.extension(raw_css=[css_2])\n",
    "\n",
    "    panel_1 = pn.panel(\"\"\"\n",
    "    <div class=\"special_table\"></div>\n",
    "\n",
    "    | Panel_1 | Description |\n",
    "    | ----------- | ----------- |\n",
    "    | Header | Title |\n",
    "    | Paragraph | Text |\n",
    "\n",
    "    \"\"\")\n",
    "\n",
    "    panel_2 = pn.panel(\"\"\"\n",
    "    <div class=\"special_table_2\"></div>\n",
    "    | Panel_2 | Description |\n",
    "    | ----------- | ----------- |\n",
    "    | Header | Title |\n",
    "    | Paragraph | Text |\n",
    "    \"\"\")\n",
    "\n",
    "pn.Column(css_style_table_example.panel_1, css_style_table_example.panel_2)"
   ]
  },
  {
   "cell_type": "code",
   "execution_count": null,
   "metadata": {
    "colab": {
     "base_uri": "https://localhost:8080/",
     "height": 406
    },
    "executionInfo": {
     "elapsed": 607,
     "status": "ok",
     "timestamp": 1681149215491,
     "user": {
      "displayName": "billh17",
      "userId": "12625841932899930070"
     },
     "user_tz": 300
    },
    "id": "8_uHbJ03TA56",
    "outputId": "359d3912-0c1b-408d-8ff3-de795a2d19de"
   },
   "outputs": [],
   "source": [
    "pn.extension(sizing_mode=\"stretch_width\", template=\"fast\")\n",
    "pn.extension()\n",
    "\n",
    "title = pn.pane.Markdown(\"### This is a markdown title\")\n",
    "window = pn.widgets.IntSlider(name='window', value=30, start=1, end=60, width=200)\n",
    "sigma = pn.widgets.IntSlider(name='sigma', value=10, start=0, end=20, width=200)\n",
    "\n",
    "widget = pn.widgets.TextInput(name='A widget', value='A string', width=200)\n",
    "checkbox = pn.widgets.Checkbox(name='Checkbox')\n",
    "static_text = pn.widgets.StaticText(name='Static Text', value='A string')\n",
    "\n",
    "def update_app(widget, checkbox, sigma):\n",
    "    static_text = f'{sigma}'\n",
    "\n",
    "#interactive = pn.bind(find_outliers, window=window, sigma=sigma)\n",
    "interactive = pn.bind(update_app, widget, checkbox, sigma)\n",
    "\n",
    "first_app = pn.Column(title, window, sigma, widget, checkbox, static_text, interactive)\n",
    "first_app"
   ]
  },
  {
   "cell_type": "markdown",
   "metadata": {
    "id": "kTy8WrucTwn2"
   },
   "source": [
    "# Maybe something to look at (example from internet)"
   ]
  },
  {
   "cell_type": "code",
   "execution_count": null,
   "metadata": {
    "id": "X6iL1mGETT-8"
   },
   "outputs": [],
   "source": [
    "!pip install hvplot\n",
    "import param\n",
    "pn.extension()\n",
    "import hvplot.pandas\n",
    "\n",
    "csv_file = 'https://raw.githubusercontent.com/holoviz/panel/main/examples/assets/occupancy.csv'\n",
    "data = pd.read_csv(csv_file, parse_dates=['date'], index_col='date')\n",
    "\n",
    "data.tail()\n",
    "\n",
    "def mpl_plot(avg, highlight):\n",
    "    fig = Figure()\n",
    "    ax = fig.add_subplot()\n",
    "    avg.plot(ax=ax)\n",
    "    if len(highlight): highlight.plot(style='o', ax=ax)\n",
    "    return fig\n",
    "\n",
    "def find_outliers(variable='Temperature', window=30, sigma=10, view_fn=mpl_plot):\n",
    "    avg = data[variable].rolling(window=window).mean()\n",
    "    residual = data[variable] - avg\n",
    "    std = residual.rolling(window=window).std()\n",
    "    outliers = (np.abs(residual) > std * sigma)\n",
    "    return view_fn(avg, avg[outliers])\n",
    "\n",
    "def hvplot(avg, highlight):\n",
    "    return avg.hvplot(height=200) * highlight.hvplot.scatter(color='orange', padding=0.1)\n",
    "\n",
    "class RoomOccupancy(param.Parameterized):\n",
    "    variable  = param.Selector(objects=list(data.columns))\n",
    "    window    = param.Integer(default=10, bounds=(1, 20))\n",
    "    sigma     = param.Number(default=10, bounds=(0, 20))\n",
    "\n",
    "    def view(self):\n",
    "        return find_outliers(self.variable, self.window, self.sigma, view_fn=hvplot)\n",
    "\n",
    "obj = RoomOccupancy()\n",
    "print(f'obj={obj}')\n",
    "pn.Row(obj.param, obj.view)"
   ]
  },
  {
   "cell_type": "markdown",
   "metadata": {
    "id": "bnEGReipVtwd"
   },
   "source": [
    "# Example of a parameterized class"
   ]
  },
  {
   "cell_type": "code",
   "execution_count": null,
   "metadata": {
    "colab": {
     "base_uri": "https://localhost:8080/",
     "height": 218
    },
    "executionInfo": {
     "elapsed": 237,
     "status": "ok",
     "timestamp": 1681149872260,
     "user": {
      "displayName": "billh17",
      "userId": "12625841932899930070"
     },
     "user_tz": 300
    },
    "id": "ljrG3O_jT0Tw",
    "outputId": "c5073f99-17a4-4f1c-d082-4293d0096f65"
   },
   "outputs": [],
   "source": [
    "class WorldSettings(param.Parameterized):\n",
    "    variable  = param.Selector(objects=['One', 'Two', 'Three'])\n",
    "    window    = param.Number(default=10, bounds=(1, 20))\n",
    "    view_width = param.Integer(default=1200, bounds=(200, 2000))\n",
    "\n",
    "    def f(x):\n",
    "        return x\n",
    "\n",
    "    def __init__(self, some_view_width:int):\n",
    "        super().__init__()\n",
    "        self.some_view_width = some_view_width\n",
    "\n",
    "    def view(self):\n",
    "        title_pane = pn.pane.Markdown(f\"# Testing\")\n",
    "        view_width_pane = pn.pane.Markdown(f'view_width: {self.some_view_width}')\n",
    "        return pn.Column(title_pane, view_width_pane)\n",
    "\n",
    "obj = WorldSettings(some_view_width=237)\n",
    "pn.Row(obj.param, obj.view)"
   ]
  },
  {
   "cell_type": "markdown",
   "metadata": {
    "id": "s5tPgeswWb35"
   },
   "source": [
    "# use file browser part? (example from internet)\n"
   ]
  },
  {
   "cell_type": "code",
   "execution_count": null,
   "metadata": {
    "colab": {
     "base_uri": "https://localhost:8080/",
     "height": 1000
    },
    "executionInfo": {
     "elapsed": 1116,
     "status": "ok",
     "timestamp": 1681150069149,
     "user": {
      "displayName": "billh17",
      "userId": "12625841932899930070"
     },
     "user_tz": 300
    },
    "id": "8YKLGmvdV0aA",
    "outputId": "f8858232-aefe-4e6b-c6d2-c0b37c342857"
   },
   "outputs": [],
   "source": [
    "import datetime as dt\n",
    "class BaseClass(param.Parameterized):\n",
    "    x                       = param.Parameter(default=3.14, doc=\"X position\")\n",
    "    y                       = param.Parameter(default=\"Not editable\", constant=True)\n",
    "    string_value            = param.String(default=\"str\", doc=\"A string\")\n",
    "    num_int                 = param.Integer(50000, bounds=(-200, 100000))\n",
    "    unbounded_int           = param.Integer(23)\n",
    "    float_with_hard_bounds  = param.Number(8.2, bounds=(7.5, 10))\n",
    "    float_with_soft_bounds  = param.Number(0.5, bounds=(0, None), softbounds=(0,2))\n",
    "    unbounded_float         = param.Number(30.01, precedence=0)\n",
    "    hidden_parameter        = param.Number(2.718, precedence=-1)\n",
    "    integer_range           = param.Range(default=(3, 7), bounds=(0, 10))\n",
    "    float_range             = param.Range(default=(0, 1.57), bounds=(0, 3.145))\n",
    "    dictionary              = param.Dict(default={\"a\": 2, \"b\": 9})\n",
    "\n",
    "class Example(BaseClass):\n",
    "    \"\"\"An example Parameterized class\"\"\"\n",
    "\n",
    "    timestamps = []\n",
    "\n",
    "    boolean                 = param.Boolean(True, doc=\"A sample Boolean parameter\")\n",
    "    color                   = param.Color(default='#FFFFFF')\n",
    "    date                    = param.Date(dt.datetime(2017, 1, 1),\n",
    "                                         bounds=(dt.datetime(2017, 1, 1), dt.datetime(2017, 2, 1)))\n",
    "    dataframe               = param.DataFrame(pd._testing.makeDataFrame().iloc[:3])\n",
    "    select_string           = param.ObjectSelector(default=\"yellow\", objects=[\"red\", \"yellow\", \"green\"])\n",
    "    select_fn               = param.ObjectSelector(default=list,objects=[list, set, dict])\n",
    "    int_list                = param.ListSelector(default=[3, 5], objects=[1, 3, 5, 7, 9], precedence=0.5)\n",
    "    single_file             = param.FileSelector(path='../../*/*.py*', precedence=0.5)\n",
    "    multiple_files          = param.MultiFileSelector(path='../../*/*.py?', precedence=0.5)\n",
    "    record_timestamp_button = param.Action(lambda x: x.record_timestamp(x), doc=\"\"\"Record timestamp.\"\"\", precedence=0.7)\n",
    "    my_action_button        = param.Action(lambda x: x.my_action(x), precedence=0.8)\n",
    "\n",
    "    def record_timestamp(x):\n",
    "        Example.timestamps.append(dt.datetime.utcnow())\n",
    "\n",
    "    def my_action(x):\n",
    "        print(f'x={x.timestamps}')\n",
    "\n",
    "base = BaseClass()\n",
    "pn.Row(Example.param, base.param)"
   ]
  },
  {
   "cell_type": "code",
   "execution_count": null,
   "metadata": {
    "colab": {
     "base_uri": "https://localhost:8080/"
    },
    "executionInfo": {
     "elapsed": 149,
     "status": "ok",
     "timestamp": 1681150088804,
     "user": {
      "displayName": "billh17",
      "userId": "12625841932899930070"
     },
     "user_tz": 300
    },
    "id": "opAOEGbAWkQ_",
    "outputId": "dafbb8e3-24da-41c0-8da0-5995ee34e7b4"
   },
   "outputs": [],
   "source": [
    "Example.timestamps"
   ]
  },
  {
   "cell_type": "code",
   "execution_count": null,
   "metadata": {
    "id": "Sl-HGX8fWpTQ"
   },
   "outputs": [],
   "source": []
  }
 ],
 "metadata": {
  "colab": {
   "authorship_tag": "ABX9TyMaI5Zf8SpgDkYeUpg9DNpv",
   "provenance": [],
   "toc_visible": true
  },
  "kernelspec": {
   "display_name": "Python 3 (ipykernel)",
   "language": "python",
   "name": "python3"
  },
  "language_info": {
   "codemirror_mode": {
    "name": "ipython",
    "version": 3
   },
   "file_extension": ".py",
   "mimetype": "text/x-python",
   "name": "python",
   "nbconvert_exporter": "python",
   "pygments_lexer": "ipython3",
   "version": "3.10.4"
  }
 },
 "nbformat": 4,
 "nbformat_minor": 4
}
